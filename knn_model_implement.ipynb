{
 "cells": [
  {
   "cell_type": "code",
   "execution_count": 1,
   "id": "7ac51643",
   "metadata": {},
   "outputs": [],
   "source": [
    "# import required libraries\n",
    "import pandas as pd\n",
    "import numpy as np\n",
    "import matplotlib.pyplot as plt\n",
    "import seaborn as sns\n",
    "from sklearn.model_selection import train_test_split\n",
    "from sklearn.neighbors import KNeighborsClassifier\n",
    "from sklearn.metrics import classification_report, accuracy_score\n",
    "from sklearn.feature_selection import VarianceThreshold\n",
    "import warnings\n",
    "warnings.filterwarnings('ignore')"
   ]
  },
  {
   "cell_type": "code",
   "execution_count": 2,
   "id": "822d1d59",
   "metadata": {},
   "outputs": [
    {
     "data": {
      "text/html": [
       "<div>\n",
       "<style scoped>\n",
       "    .dataframe tbody tr th:only-of-type {\n",
       "        vertical-align: middle;\n",
       "    }\n",
       "\n",
       "    .dataframe tbody tr th {\n",
       "        vertical-align: top;\n",
       "    }\n",
       "\n",
       "    .dataframe thead th {\n",
       "        text-align: right;\n",
       "    }\n",
       "</style>\n",
       "<table border=\"1\" class=\"dataframe\">\n",
       "  <thead>\n",
       "    <tr style=\"text-align: right;\">\n",
       "      <th></th>\n",
       "      <th>0</th>\n",
       "      <th>1</th>\n",
       "      <th>2</th>\n",
       "      <th>3</th>\n",
       "      <th>4</th>\n",
       "      <th>5</th>\n",
       "      <th>6</th>\n",
       "      <th>7</th>\n",
       "      <th>8</th>\n",
       "      <th>9</th>\n",
       "      <th>10</th>\n",
       "    </tr>\n",
       "  </thead>\n",
       "  <tbody>\n",
       "    <tr>\n",
       "      <th>0</th>\n",
       "      <td>1000025</td>\n",
       "      <td>5</td>\n",
       "      <td>1</td>\n",
       "      <td>1</td>\n",
       "      <td>1</td>\n",
       "      <td>2</td>\n",
       "      <td>1</td>\n",
       "      <td>3</td>\n",
       "      <td>1</td>\n",
       "      <td>1</td>\n",
       "      <td>2</td>\n",
       "    </tr>\n",
       "    <tr>\n",
       "      <th>1</th>\n",
       "      <td>1002945</td>\n",
       "      <td>5</td>\n",
       "      <td>4</td>\n",
       "      <td>4</td>\n",
       "      <td>5</td>\n",
       "      <td>7</td>\n",
       "      <td>10</td>\n",
       "      <td>3</td>\n",
       "      <td>2</td>\n",
       "      <td>1</td>\n",
       "      <td>2</td>\n",
       "    </tr>\n",
       "    <tr>\n",
       "      <th>2</th>\n",
       "      <td>1015425</td>\n",
       "      <td>3</td>\n",
       "      <td>1</td>\n",
       "      <td>1</td>\n",
       "      <td>1</td>\n",
       "      <td>2</td>\n",
       "      <td>2</td>\n",
       "      <td>3</td>\n",
       "      <td>1</td>\n",
       "      <td>1</td>\n",
       "      <td>2</td>\n",
       "    </tr>\n",
       "    <tr>\n",
       "      <th>3</th>\n",
       "      <td>1016277</td>\n",
       "      <td>6</td>\n",
       "      <td>8</td>\n",
       "      <td>8</td>\n",
       "      <td>1</td>\n",
       "      <td>3</td>\n",
       "      <td>4</td>\n",
       "      <td>3</td>\n",
       "      <td>7</td>\n",
       "      <td>1</td>\n",
       "      <td>2</td>\n",
       "    </tr>\n",
       "    <tr>\n",
       "      <th>4</th>\n",
       "      <td>1017023</td>\n",
       "      <td>4</td>\n",
       "      <td>1</td>\n",
       "      <td>1</td>\n",
       "      <td>3</td>\n",
       "      <td>2</td>\n",
       "      <td>1</td>\n",
       "      <td>3</td>\n",
       "      <td>1</td>\n",
       "      <td>1</td>\n",
       "      <td>2</td>\n",
       "    </tr>\n",
       "  </tbody>\n",
       "</table>\n",
       "</div>"
      ],
      "text/plain": [
       "        0   1   2   3   4   5   6   7   8   9   10\n",
       "0  1000025   5   1   1   1   2   1   3   1   1   2\n",
       "1  1002945   5   4   4   5   7  10   3   2   1   2\n",
       "2  1015425   3   1   1   1   2   2   3   1   1   2\n",
       "3  1016277   6   8   8   1   3   4   3   7   1   2\n",
       "4  1017023   4   1   1   3   2   1   3   1   1   2"
      ]
     },
     "execution_count": 2,
     "metadata": {},
     "output_type": "execute_result"
    }
   ],
   "source": [
    "dt_txt='data.txt'\n",
    "data=pd.read_csv(dt_txt,header=None)\n",
    "data.head()"
   ]
  },
  {
   "cell_type": "code",
   "execution_count": 3,
   "id": "23ddd9af",
   "metadata": {},
   "outputs": [],
   "source": [
    "col_names = ['Id', 'Clump_thickness', 'Uniformity_Cell_Size', 'Uniformity_Cell_Shape', 'Marginal_Adhesion', \n",
    "             'Single_Epithelial_Cell_Size', 'Bare_Nuclei', 'Bland_Chromatin', 'Normal_Nucleoli', 'Mitoses', 'Class']\n",
    "\n",
    "data.columns = col_names"
   ]
  },
  {
   "cell_type": "code",
   "execution_count": 4,
   "id": "ccfb4d8e",
   "metadata": {},
   "outputs": [
    {
     "data": {
      "text/plain": [
       "(699, 11)"
      ]
     },
     "execution_count": 4,
     "metadata": {},
     "output_type": "execute_result"
    }
   ],
   "source": [
    "data.shape"
   ]
  },
  {
   "cell_type": "code",
   "execution_count": 5,
   "id": "d8fd32fc",
   "metadata": {},
   "outputs": [
    {
     "name": "stdout",
     "output_type": "stream",
     "text": [
      "<class 'pandas.core.frame.DataFrame'>\n",
      "RangeIndex: 699 entries, 0 to 698\n",
      "Data columns (total 11 columns):\n",
      " #   Column                       Non-Null Count  Dtype \n",
      "---  ------                       --------------  ----- \n",
      " 0   Id                           699 non-null    int64 \n",
      " 1   Clump_thickness              699 non-null    int64 \n",
      " 2   Uniformity_Cell_Size         699 non-null    int64 \n",
      " 3   Uniformity_Cell_Shape        699 non-null    int64 \n",
      " 4   Marginal_Adhesion            699 non-null    int64 \n",
      " 5   Single_Epithelial_Cell_Size  699 non-null    int64 \n",
      " 6   Bare_Nuclei                  699 non-null    object\n",
      " 7   Bland_Chromatin              699 non-null    int64 \n",
      " 8   Normal_Nucleoli              699 non-null    int64 \n",
      " 9   Mitoses                      699 non-null    int64 \n",
      " 10  Class                        699 non-null    int64 \n",
      "dtypes: int64(10), object(1)\n",
      "memory usage: 60.2+ KB\n"
     ]
    }
   ],
   "source": [
    "data.info()"
   ]
  },
  {
   "cell_type": "code",
   "execution_count": 6,
   "id": "1875271a",
   "metadata": {},
   "outputs": [
    {
     "data": {
      "text/html": [
       "<div>\n",
       "<style scoped>\n",
       "    .dataframe tbody tr th:only-of-type {\n",
       "        vertical-align: middle;\n",
       "    }\n",
       "\n",
       "    .dataframe tbody tr th {\n",
       "        vertical-align: top;\n",
       "    }\n",
       "\n",
       "    .dataframe thead th {\n",
       "        text-align: right;\n",
       "    }\n",
       "</style>\n",
       "<table border=\"1\" class=\"dataframe\">\n",
       "  <thead>\n",
       "    <tr style=\"text-align: right;\">\n",
       "      <th></th>\n",
       "      <th>count</th>\n",
       "      <th>mean</th>\n",
       "      <th>std</th>\n",
       "      <th>min</th>\n",
       "      <th>25%</th>\n",
       "      <th>50%</th>\n",
       "      <th>75%</th>\n",
       "      <th>max</th>\n",
       "    </tr>\n",
       "  </thead>\n",
       "  <tbody>\n",
       "    <tr>\n",
       "      <th>Id</th>\n",
       "      <td>699.0</td>\n",
       "      <td>1071704.10</td>\n",
       "      <td>617095.73</td>\n",
       "      <td>61634.0</td>\n",
       "      <td>870688.5</td>\n",
       "      <td>1171710.0</td>\n",
       "      <td>1238298.0</td>\n",
       "      <td>13454352.0</td>\n",
       "    </tr>\n",
       "    <tr>\n",
       "      <th>Clump_thickness</th>\n",
       "      <td>699.0</td>\n",
       "      <td>4.42</td>\n",
       "      <td>2.82</td>\n",
       "      <td>1.0</td>\n",
       "      <td>2.0</td>\n",
       "      <td>4.0</td>\n",
       "      <td>6.0</td>\n",
       "      <td>10.0</td>\n",
       "    </tr>\n",
       "    <tr>\n",
       "      <th>Uniformity_Cell_Size</th>\n",
       "      <td>699.0</td>\n",
       "      <td>3.13</td>\n",
       "      <td>3.05</td>\n",
       "      <td>1.0</td>\n",
       "      <td>1.0</td>\n",
       "      <td>1.0</td>\n",
       "      <td>5.0</td>\n",
       "      <td>10.0</td>\n",
       "    </tr>\n",
       "    <tr>\n",
       "      <th>Uniformity_Cell_Shape</th>\n",
       "      <td>699.0</td>\n",
       "      <td>3.21</td>\n",
       "      <td>2.97</td>\n",
       "      <td>1.0</td>\n",
       "      <td>1.0</td>\n",
       "      <td>1.0</td>\n",
       "      <td>5.0</td>\n",
       "      <td>10.0</td>\n",
       "    </tr>\n",
       "    <tr>\n",
       "      <th>Marginal_Adhesion</th>\n",
       "      <td>699.0</td>\n",
       "      <td>2.81</td>\n",
       "      <td>2.86</td>\n",
       "      <td>1.0</td>\n",
       "      <td>1.0</td>\n",
       "      <td>1.0</td>\n",
       "      <td>4.0</td>\n",
       "      <td>10.0</td>\n",
       "    </tr>\n",
       "    <tr>\n",
       "      <th>Single_Epithelial_Cell_Size</th>\n",
       "      <td>699.0</td>\n",
       "      <td>3.22</td>\n",
       "      <td>2.21</td>\n",
       "      <td>1.0</td>\n",
       "      <td>2.0</td>\n",
       "      <td>2.0</td>\n",
       "      <td>4.0</td>\n",
       "      <td>10.0</td>\n",
       "    </tr>\n",
       "    <tr>\n",
       "      <th>Bland_Chromatin</th>\n",
       "      <td>699.0</td>\n",
       "      <td>3.44</td>\n",
       "      <td>2.44</td>\n",
       "      <td>1.0</td>\n",
       "      <td>2.0</td>\n",
       "      <td>3.0</td>\n",
       "      <td>5.0</td>\n",
       "      <td>10.0</td>\n",
       "    </tr>\n",
       "    <tr>\n",
       "      <th>Normal_Nucleoli</th>\n",
       "      <td>699.0</td>\n",
       "      <td>2.87</td>\n",
       "      <td>3.05</td>\n",
       "      <td>1.0</td>\n",
       "      <td>1.0</td>\n",
       "      <td>1.0</td>\n",
       "      <td>4.0</td>\n",
       "      <td>10.0</td>\n",
       "    </tr>\n",
       "    <tr>\n",
       "      <th>Mitoses</th>\n",
       "      <td>699.0</td>\n",
       "      <td>1.59</td>\n",
       "      <td>1.72</td>\n",
       "      <td>1.0</td>\n",
       "      <td>1.0</td>\n",
       "      <td>1.0</td>\n",
       "      <td>1.0</td>\n",
       "      <td>10.0</td>\n",
       "    </tr>\n",
       "    <tr>\n",
       "      <th>Class</th>\n",
       "      <td>699.0</td>\n",
       "      <td>2.69</td>\n",
       "      <td>0.95</td>\n",
       "      <td>2.0</td>\n",
       "      <td>2.0</td>\n",
       "      <td>2.0</td>\n",
       "      <td>4.0</td>\n",
       "      <td>4.0</td>\n",
       "    </tr>\n",
       "  </tbody>\n",
       "</table>\n",
       "</div>"
      ],
      "text/plain": [
       "                             count        mean        std      min       25%  \\\n",
       "Id                           699.0  1071704.10  617095.73  61634.0  870688.5   \n",
       "Clump_thickness              699.0        4.42       2.82      1.0       2.0   \n",
       "Uniformity_Cell_Size         699.0        3.13       3.05      1.0       1.0   \n",
       "Uniformity_Cell_Shape        699.0        3.21       2.97      1.0       1.0   \n",
       "Marginal_Adhesion            699.0        2.81       2.86      1.0       1.0   \n",
       "Single_Epithelial_Cell_Size  699.0        3.22       2.21      1.0       2.0   \n",
       "Bland_Chromatin              699.0        3.44       2.44      1.0       2.0   \n",
       "Normal_Nucleoli              699.0        2.87       3.05      1.0       1.0   \n",
       "Mitoses                      699.0        1.59       1.72      1.0       1.0   \n",
       "Class                        699.0        2.69       0.95      2.0       2.0   \n",
       "\n",
       "                                   50%        75%         max  \n",
       "Id                           1171710.0  1238298.0  13454352.0  \n",
       "Clump_thickness                    4.0        6.0        10.0  \n",
       "Uniformity_Cell_Size               1.0        5.0        10.0  \n",
       "Uniformity_Cell_Shape              1.0        5.0        10.0  \n",
       "Marginal_Adhesion                  1.0        4.0        10.0  \n",
       "Single_Epithelial_Cell_Size        2.0        4.0        10.0  \n",
       "Bland_Chromatin                    3.0        5.0        10.0  \n",
       "Normal_Nucleoli                    1.0        4.0        10.0  \n",
       "Mitoses                            1.0        1.0        10.0  \n",
       "Class                              2.0        4.0         4.0  "
      ]
     },
     "execution_count": 6,
     "metadata": {},
     "output_type": "execute_result"
    }
   ],
   "source": [
    "data.describe().round(2).T"
   ]
  },
  {
   "cell_type": "code",
   "execution_count": 7,
   "id": "1be71d24",
   "metadata": {},
   "outputs": [],
   "source": [
    "data['Bare_Nuclei']=pd.to_numeric(data['Bare_Nuclei'],errors='coerce')"
   ]
  },
  {
   "cell_type": "code",
   "execution_count": 8,
   "id": "b3cd22fc",
   "metadata": {},
   "outputs": [
    {
     "data": {
      "text/html": [
       "<div>\n",
       "<style scoped>\n",
       "    .dataframe tbody tr th:only-of-type {\n",
       "        vertical-align: middle;\n",
       "    }\n",
       "\n",
       "    .dataframe tbody tr th {\n",
       "        vertical-align: top;\n",
       "    }\n",
       "\n",
       "    .dataframe thead th {\n",
       "        text-align: right;\n",
       "    }\n",
       "</style>\n",
       "<table border=\"1\" class=\"dataframe\">\n",
       "  <thead>\n",
       "    <tr style=\"text-align: right;\">\n",
       "      <th></th>\n",
       "      <th>Id</th>\n",
       "      <th>Clump_thickness</th>\n",
       "      <th>Uniformity_Cell_Size</th>\n",
       "      <th>Uniformity_Cell_Shape</th>\n",
       "      <th>Marginal_Adhesion</th>\n",
       "      <th>Single_Epithelial_Cell_Size</th>\n",
       "      <th>Bare_Nuclei</th>\n",
       "      <th>Bland_Chromatin</th>\n",
       "      <th>Normal_Nucleoli</th>\n",
       "      <th>Mitoses</th>\n",
       "      <th>Class</th>\n",
       "    </tr>\n",
       "  </thead>\n",
       "  <tbody>\n",
       "    <tr>\n",
       "      <th>0</th>\n",
       "      <td>1000025</td>\n",
       "      <td>5</td>\n",
       "      <td>1</td>\n",
       "      <td>1</td>\n",
       "      <td>1</td>\n",
       "      <td>2</td>\n",
       "      <td>1.0</td>\n",
       "      <td>3</td>\n",
       "      <td>1</td>\n",
       "      <td>1</td>\n",
       "      <td>2</td>\n",
       "    </tr>\n",
       "    <tr>\n",
       "      <th>1</th>\n",
       "      <td>1002945</td>\n",
       "      <td>5</td>\n",
       "      <td>4</td>\n",
       "      <td>4</td>\n",
       "      <td>5</td>\n",
       "      <td>7</td>\n",
       "      <td>10.0</td>\n",
       "      <td>3</td>\n",
       "      <td>2</td>\n",
       "      <td>1</td>\n",
       "      <td>2</td>\n",
       "    </tr>\n",
       "    <tr>\n",
       "      <th>2</th>\n",
       "      <td>1015425</td>\n",
       "      <td>3</td>\n",
       "      <td>1</td>\n",
       "      <td>1</td>\n",
       "      <td>1</td>\n",
       "      <td>2</td>\n",
       "      <td>2.0</td>\n",
       "      <td>3</td>\n",
       "      <td>1</td>\n",
       "      <td>1</td>\n",
       "      <td>2</td>\n",
       "    </tr>\n",
       "    <tr>\n",
       "      <th>3</th>\n",
       "      <td>1016277</td>\n",
       "      <td>6</td>\n",
       "      <td>8</td>\n",
       "      <td>8</td>\n",
       "      <td>1</td>\n",
       "      <td>3</td>\n",
       "      <td>4.0</td>\n",
       "      <td>3</td>\n",
       "      <td>7</td>\n",
       "      <td>1</td>\n",
       "      <td>2</td>\n",
       "    </tr>\n",
       "    <tr>\n",
       "      <th>4</th>\n",
       "      <td>1017023</td>\n",
       "      <td>4</td>\n",
       "      <td>1</td>\n",
       "      <td>1</td>\n",
       "      <td>3</td>\n",
       "      <td>2</td>\n",
       "      <td>1.0</td>\n",
       "      <td>3</td>\n",
       "      <td>1</td>\n",
       "      <td>1</td>\n",
       "      <td>2</td>\n",
       "    </tr>\n",
       "  </tbody>\n",
       "</table>\n",
       "</div>"
      ],
      "text/plain": [
       "        Id  Clump_thickness  Uniformity_Cell_Size  Uniformity_Cell_Shape  \\\n",
       "0  1000025                5                     1                      1   \n",
       "1  1002945                5                     4                      4   \n",
       "2  1015425                3                     1                      1   \n",
       "3  1016277                6                     8                      8   \n",
       "4  1017023                4                     1                      1   \n",
       "\n",
       "   Marginal_Adhesion  Single_Epithelial_Cell_Size  Bare_Nuclei  \\\n",
       "0                  1                            2          1.0   \n",
       "1                  5                            7         10.0   \n",
       "2                  1                            2          2.0   \n",
       "3                  1                            3          4.0   \n",
       "4                  3                            2          1.0   \n",
       "\n",
       "   Bland_Chromatin  Normal_Nucleoli  Mitoses  Class  \n",
       "0                3                1        1      2  \n",
       "1                3                2        1      2  \n",
       "2                3                1        1      2  \n",
       "3                3                7        1      2  \n",
       "4                3                1        1      2  "
      ]
     },
     "execution_count": 8,
     "metadata": {},
     "output_type": "execute_result"
    }
   ],
   "source": [
    "data.head()"
   ]
  },
  {
   "cell_type": "code",
   "execution_count": 9,
   "id": "c881979d",
   "metadata": {},
   "outputs": [
    {
     "data": {
      "text/plain": [
       "Id                              0\n",
       "Clump_thickness                 0\n",
       "Uniformity_Cell_Size            0\n",
       "Uniformity_Cell_Shape           0\n",
       "Marginal_Adhesion               0\n",
       "Single_Epithelial_Cell_Size     0\n",
       "Bare_Nuclei                    16\n",
       "Bland_Chromatin                 0\n",
       "Normal_Nucleoli                 0\n",
       "Mitoses                         0\n",
       "Class                           0\n",
       "dtype: int64"
      ]
     },
     "execution_count": 9,
     "metadata": {},
     "output_type": "execute_result"
    }
   ],
   "source": [
    "data.isnull().sum()"
   ]
  },
  {
   "cell_type": "code",
   "execution_count": 10,
   "id": "8e3a19f3",
   "metadata": {},
   "outputs": [],
   "source": [
    "data=data.fillna(0)"
   ]
  },
  {
   "cell_type": "markdown",
   "id": "c1889e41",
   "metadata": {},
   "source": [
    "# Data Visulization"
   ]
  },
  {
   "cell_type": "code",
   "execution_count": 11,
   "id": "513f0e34",
   "metadata": {},
   "outputs": [
    {
     "data": {
      "text/html": [
       "<div>\n",
       "<style scoped>\n",
       "    .dataframe tbody tr th:only-of-type {\n",
       "        vertical-align: middle;\n",
       "    }\n",
       "\n",
       "    .dataframe tbody tr th {\n",
       "        vertical-align: top;\n",
       "    }\n",
       "\n",
       "    .dataframe thead th {\n",
       "        text-align: right;\n",
       "    }\n",
       "</style>\n",
       "<table border=\"1\" class=\"dataframe\">\n",
       "  <thead>\n",
       "    <tr style=\"text-align: right;\">\n",
       "      <th></th>\n",
       "      <th>Id</th>\n",
       "      <th>Clump_thickness</th>\n",
       "      <th>Uniformity_Cell_Size</th>\n",
       "      <th>Uniformity_Cell_Shape</th>\n",
       "      <th>Marginal_Adhesion</th>\n",
       "      <th>Single_Epithelial_Cell_Size</th>\n",
       "      <th>Bare_Nuclei</th>\n",
       "      <th>Bland_Chromatin</th>\n",
       "      <th>Normal_Nucleoli</th>\n",
       "      <th>Mitoses</th>\n",
       "      <th>Class</th>\n",
       "    </tr>\n",
       "  </thead>\n",
       "  <tbody>\n",
       "    <tr>\n",
       "      <th>Id</th>\n",
       "      <td>1.000000</td>\n",
       "      <td>-0.055308</td>\n",
       "      <td>-0.041603</td>\n",
       "      <td>-0.041576</td>\n",
       "      <td>-0.064878</td>\n",
       "      <td>-0.045528</td>\n",
       "      <td>-0.089871</td>\n",
       "      <td>-0.060051</td>\n",
       "      <td>-0.052072</td>\n",
       "      <td>-0.034901</td>\n",
       "      <td>-0.080226</td>\n",
       "    </tr>\n",
       "    <tr>\n",
       "      <th>Clump_thickness</th>\n",
       "      <td>-0.055308</td>\n",
       "      <td>1.000000</td>\n",
       "      <td>0.644913</td>\n",
       "      <td>0.654589</td>\n",
       "      <td>0.486356</td>\n",
       "      <td>0.521816</td>\n",
       "      <td>0.589296</td>\n",
       "      <td>0.558428</td>\n",
       "      <td>0.535835</td>\n",
       "      <td>0.350034</td>\n",
       "      <td>0.716001</td>\n",
       "    </tr>\n",
       "    <tr>\n",
       "      <th>Uniformity_Cell_Size</th>\n",
       "      <td>-0.041603</td>\n",
       "      <td>0.644913</td>\n",
       "      <td>1.000000</td>\n",
       "      <td>0.906882</td>\n",
       "      <td>0.705582</td>\n",
       "      <td>0.751799</td>\n",
       "      <td>0.684569</td>\n",
       "      <td>0.755721</td>\n",
       "      <td>0.722865</td>\n",
       "      <td>0.458693</td>\n",
       "      <td>0.817904</td>\n",
       "    </tr>\n",
       "    <tr>\n",
       "      <th>Uniformity_Cell_Shape</th>\n",
       "      <td>-0.041576</td>\n",
       "      <td>0.654589</td>\n",
       "      <td>0.906882</td>\n",
       "      <td>1.000000</td>\n",
       "      <td>0.683079</td>\n",
       "      <td>0.719668</td>\n",
       "      <td>0.704529</td>\n",
       "      <td>0.735948</td>\n",
       "      <td>0.719446</td>\n",
       "      <td>0.438911</td>\n",
       "      <td>0.818934</td>\n",
       "    </tr>\n",
       "    <tr>\n",
       "      <th>Marginal_Adhesion</th>\n",
       "      <td>-0.064878</td>\n",
       "      <td>0.486356</td>\n",
       "      <td>0.705582</td>\n",
       "      <td>0.683079</td>\n",
       "      <td>1.000000</td>\n",
       "      <td>0.599599</td>\n",
       "      <td>0.665723</td>\n",
       "      <td>0.666715</td>\n",
       "      <td>0.603352</td>\n",
       "      <td>0.417633</td>\n",
       "      <td>0.696800</td>\n",
       "    </tr>\n",
       "    <tr>\n",
       "      <th>Single_Epithelial_Cell_Size</th>\n",
       "      <td>-0.045528</td>\n",
       "      <td>0.521816</td>\n",
       "      <td>0.751799</td>\n",
       "      <td>0.719668</td>\n",
       "      <td>0.599599</td>\n",
       "      <td>1.000000</td>\n",
       "      <td>0.582904</td>\n",
       "      <td>0.616102</td>\n",
       "      <td>0.628881</td>\n",
       "      <td>0.479101</td>\n",
       "      <td>0.682785</td>\n",
       "    </tr>\n",
       "    <tr>\n",
       "      <th>Bare_Nuclei</th>\n",
       "      <td>-0.089871</td>\n",
       "      <td>0.589296</td>\n",
       "      <td>0.684569</td>\n",
       "      <td>0.704529</td>\n",
       "      <td>0.665723</td>\n",
       "      <td>0.582904</td>\n",
       "      <td>1.000000</td>\n",
       "      <td>0.671545</td>\n",
       "      <td>0.572054</td>\n",
       "      <td>0.342795</td>\n",
       "      <td>0.817653</td>\n",
       "    </tr>\n",
       "    <tr>\n",
       "      <th>Bland_Chromatin</th>\n",
       "      <td>-0.060051</td>\n",
       "      <td>0.558428</td>\n",
       "      <td>0.755721</td>\n",
       "      <td>0.735948</td>\n",
       "      <td>0.666715</td>\n",
       "      <td>0.616102</td>\n",
       "      <td>0.671545</td>\n",
       "      <td>1.000000</td>\n",
       "      <td>0.665878</td>\n",
       "      <td>0.344169</td>\n",
       "      <td>0.756616</td>\n",
       "    </tr>\n",
       "    <tr>\n",
       "      <th>Normal_Nucleoli</th>\n",
       "      <td>-0.052072</td>\n",
       "      <td>0.535835</td>\n",
       "      <td>0.722865</td>\n",
       "      <td>0.719446</td>\n",
       "      <td>0.603352</td>\n",
       "      <td>0.628881</td>\n",
       "      <td>0.572054</td>\n",
       "      <td>0.665878</td>\n",
       "      <td>1.000000</td>\n",
       "      <td>0.428336</td>\n",
       "      <td>0.712244</td>\n",
       "    </tr>\n",
       "    <tr>\n",
       "      <th>Mitoses</th>\n",
       "      <td>-0.034901</td>\n",
       "      <td>0.350034</td>\n",
       "      <td>0.458693</td>\n",
       "      <td>0.438911</td>\n",
       "      <td>0.417633</td>\n",
       "      <td>0.479101</td>\n",
       "      <td>0.342795</td>\n",
       "      <td>0.344169</td>\n",
       "      <td>0.428336</td>\n",
       "      <td>1.000000</td>\n",
       "      <td>0.423170</td>\n",
       "    </tr>\n",
       "    <tr>\n",
       "      <th>Class</th>\n",
       "      <td>-0.080226</td>\n",
       "      <td>0.716001</td>\n",
       "      <td>0.817904</td>\n",
       "      <td>0.818934</td>\n",
       "      <td>0.696800</td>\n",
       "      <td>0.682785</td>\n",
       "      <td>0.817653</td>\n",
       "      <td>0.756616</td>\n",
       "      <td>0.712244</td>\n",
       "      <td>0.423170</td>\n",
       "      <td>1.000000</td>\n",
       "    </tr>\n",
       "  </tbody>\n",
       "</table>\n",
       "</div>"
      ],
      "text/plain": [
       "                                   Id  Clump_thickness  Uniformity_Cell_Size  \\\n",
       "Id                           1.000000        -0.055308             -0.041603   \n",
       "Clump_thickness             -0.055308         1.000000              0.644913   \n",
       "Uniformity_Cell_Size        -0.041603         0.644913              1.000000   \n",
       "Uniformity_Cell_Shape       -0.041576         0.654589              0.906882   \n",
       "Marginal_Adhesion           -0.064878         0.486356              0.705582   \n",
       "Single_Epithelial_Cell_Size -0.045528         0.521816              0.751799   \n",
       "Bare_Nuclei                 -0.089871         0.589296              0.684569   \n",
       "Bland_Chromatin             -0.060051         0.558428              0.755721   \n",
       "Normal_Nucleoli             -0.052072         0.535835              0.722865   \n",
       "Mitoses                     -0.034901         0.350034              0.458693   \n",
       "Class                       -0.080226         0.716001              0.817904   \n",
       "\n",
       "                             Uniformity_Cell_Shape  Marginal_Adhesion  \\\n",
       "Id                                       -0.041576          -0.064878   \n",
       "Clump_thickness                           0.654589           0.486356   \n",
       "Uniformity_Cell_Size                      0.906882           0.705582   \n",
       "Uniformity_Cell_Shape                     1.000000           0.683079   \n",
       "Marginal_Adhesion                         0.683079           1.000000   \n",
       "Single_Epithelial_Cell_Size               0.719668           0.599599   \n",
       "Bare_Nuclei                               0.704529           0.665723   \n",
       "Bland_Chromatin                           0.735948           0.666715   \n",
       "Normal_Nucleoli                           0.719446           0.603352   \n",
       "Mitoses                                   0.438911           0.417633   \n",
       "Class                                     0.818934           0.696800   \n",
       "\n",
       "                             Single_Epithelial_Cell_Size  Bare_Nuclei  \\\n",
       "Id                                             -0.045528    -0.089871   \n",
       "Clump_thickness                                 0.521816     0.589296   \n",
       "Uniformity_Cell_Size                            0.751799     0.684569   \n",
       "Uniformity_Cell_Shape                           0.719668     0.704529   \n",
       "Marginal_Adhesion                               0.599599     0.665723   \n",
       "Single_Epithelial_Cell_Size                     1.000000     0.582904   \n",
       "Bare_Nuclei                                     0.582904     1.000000   \n",
       "Bland_Chromatin                                 0.616102     0.671545   \n",
       "Normal_Nucleoli                                 0.628881     0.572054   \n",
       "Mitoses                                         0.479101     0.342795   \n",
       "Class                                           0.682785     0.817653   \n",
       "\n",
       "                             Bland_Chromatin  Normal_Nucleoli   Mitoses  \\\n",
       "Id                                 -0.060051        -0.052072 -0.034901   \n",
       "Clump_thickness                     0.558428         0.535835  0.350034   \n",
       "Uniformity_Cell_Size                0.755721         0.722865  0.458693   \n",
       "Uniformity_Cell_Shape               0.735948         0.719446  0.438911   \n",
       "Marginal_Adhesion                   0.666715         0.603352  0.417633   \n",
       "Single_Epithelial_Cell_Size         0.616102         0.628881  0.479101   \n",
       "Bare_Nuclei                         0.671545         0.572054  0.342795   \n",
       "Bland_Chromatin                     1.000000         0.665878  0.344169   \n",
       "Normal_Nucleoli                     0.665878         1.000000  0.428336   \n",
       "Mitoses                             0.344169         0.428336  1.000000   \n",
       "Class                               0.756616         0.712244  0.423170   \n",
       "\n",
       "                                Class  \n",
       "Id                          -0.080226  \n",
       "Clump_thickness              0.716001  \n",
       "Uniformity_Cell_Size         0.817904  \n",
       "Uniformity_Cell_Shape        0.818934  \n",
       "Marginal_Adhesion            0.696800  \n",
       "Single_Epithelial_Cell_Size  0.682785  \n",
       "Bare_Nuclei                  0.817653  \n",
       "Bland_Chromatin              0.756616  \n",
       "Normal_Nucleoli              0.712244  \n",
       "Mitoses                      0.423170  \n",
       "Class                        1.000000  "
      ]
     },
     "execution_count": 11,
     "metadata": {},
     "output_type": "execute_result"
    }
   ],
   "source": [
    "corr=data.corr()\n",
    "corr.T"
   ]
  },
  {
   "cell_type": "code",
   "execution_count": 12,
   "id": "0448018e",
   "metadata": {},
   "outputs": [
    {
     "data": {
      "image/png": "[encoded data removed]",
      "text/plain": [
       "<Figure size 720x576 with 1 Axes>"
      ]
     },
     "metadata": {
      "needs_background": "light"
     },
     "output_type": "display_data"
    }
   ],
   "source": [
    "plt.figure(figsize=(10,8))\n",
    "heat=sns.heatmap(corr, annot=True,fmt='.2f',cmap='Greens',cbar=False)\n",
    "heat.set_xticklabels(heat.get_xticklabels(), rotation=90)\n",
    "heat.set_yticklabels(heat.get_yticklabels(), rotation=30) \n",
    "plt.show()"
   ]
  },
  {
   "cell_type": "code",
   "execution_count": 13,
   "id": "28993698",
   "metadata": {},
   "outputs": [
    {
     "data": {
      "text/plain": [
       "<AxesSubplot:xlabel='Class', ylabel='Count'>"
      ]
     },
     "execution_count": 13,
     "metadata": {},
     "output_type": "execute_result"
    },
    {
     "data": {
      "image/png": "[encoded data removed]",
      "text/plain": [
       "<Figure size 432x288 with 1 Axes>"
      ]
     },
     "metadata": {
      "needs_background": "light"
     },
     "output_type": "display_data"
    }
   ],
   "source": [
    "sns.histplot(data=data, x='Class',hue='Class',palette='autumn')"
   ]
  },
  {
   "cell_type": "markdown",
   "id": "322ca240",
   "metadata": {},
   "source": [
    "******These are Some Seaborn Plattes You can try******\n",
    "\n",
    "\n",
    "‘Accent’, ‘Accent_r’, ‘Blues’, ‘Blues_r’, ‘BrBG’, ‘BrBG_r’, ‘BuGn’, ‘BuGn_r’,\n",
    "‘BuPu’, ‘BuPu_r’, ‘CMRmap’, ‘CMRmap_r’, ‘Dark2’, ‘Dark2_r’, ‘GnBu’, ‘GnBu_r’,  ‘Greens’, \n",
    "‘Greens_r’, ‘Greys’, ‘Greys_r’, ‘OrRd’, ‘OrRd_r’, ‘Oranges’, ‘Oranges_r’,  ‘PRGn’, ‘PRGn_r’,\n",
    "‘Paired’, ‘Paired_r’, ‘Pastel1’, ‘Pastel1_r’, ‘Pastel2’,  ‘Pastel2_r’, ‘PiYG’, ‘PiYG_r’, ‘PuBu’,\n",
    "‘PuBuGn’, ‘PuBuGn_r’, ‘PuBu_r’, ‘PuOr’, ‘PuOr_r’, ‘PuRd’, ‘PuRd_r’, ‘Purples’, ‘Purples_r’, ‘RdBu’, \n",
    "‘RdBu_r’, ‘RdGy’, ‘RdGy_r’, ‘RdPu’, ‘RdPu_r’, ‘RdYlBu’, ‘RdYlBu_r’, ‘RdYlGn’, ‘RdYlGn_r’, ‘Reds’, \n",
    "‘Reds_r’, ‘Set1’, ‘Set1_r’, ‘Set2’, ‘Set2_r’, ‘Set3’, ‘Set3_r’, ‘Spectral’, ‘Spectral_r’, ‘Wistia’, \n",
    "‘Wistia_r’, ‘YlGn’, ‘YlGnBu’, ‘YlGnBu_r’, ‘YlGn_r’, ‘YlOrBr’, ‘YlOrBr_r’, ‘YlOrRd’, ‘YlOrRd_r’,\n",
    "‘afmhot’, ‘afmhot_r’, ‘autumn’, ‘autumn_r’, ‘binary’, ‘binary_r’,  ‘bone’, ‘bone_r’, ‘brg’, ‘brg_r’,\n",
    "‘bwr’, ‘bwr_r’, ‘cividis’, ‘cividis_r’, ‘cool’, ‘cool_r’,  ‘coolwarm’, ‘coolwarm_r’, ‘copper’, \n",
    "‘copper_r’, ‘cubehelix’, ‘cubehelix_r’, ‘flag’, ‘flag_r’,  ‘gist_earth’, ‘gist_earth_r’, ‘gist_gray’, \n",
    "‘gist_gray_r’, ‘gist_heat’, ‘gist_heat_r’, ‘gist_ncar’,  ‘gist_ncar_r’, ‘gist_rainbow’, ‘gist_rainbow_r’,\n",
    "‘gist_stern’, ‘gist_stern_r’, ‘gist_yarg’,  ‘gist_yarg_r’, ‘gnuplot’, ‘gnuplot2’, ‘gnuplot2_r’, ‘gnuplot_r’, \n",
    "‘gray’, ‘gray_r’, ‘hot’, ‘hot_r’,  ‘hsv’, ‘hsv_r’, ‘icefire’, ‘icefire_r’, ‘inferno’, ‘inferno_r’, ‘jet’,\n",
    "‘jet_r’, ‘magma’, ‘magma_r’,  ‘mako’, ‘mako_r’, ‘nipy_spectral’, ‘nipy_spectral_r’, ‘ocean’, ‘ocean_r’, \n",
    "‘pink’, ‘pink_r’,  ‘plasma’, ‘plasma_r’, ‘prism’, ‘prism_r’, ‘rainbow’, ‘rainbow_r’, ‘rocket’,\n",
    "‘rocket_r’,  ‘seismic’, ‘seismic_r’, ‘spring’, ‘spring_r’, ‘summer’, ‘summer_r’, ‘tab10’, \n",
    "‘tab10_r’,’tab20′, ‘tab20_r’, ‘tab20b’, ‘tab20b_r’, ‘tab20c’, ‘tab20c_r’, ‘terrain’, ‘terrain_r’,\n",
    "‘turbo’,  ‘turbo_r’, ‘twilight’, ‘twilight_r’, ‘twilight_shifted’, ‘twilight_shifted_r’,\n",
    "‘viridis’,  ‘viridis_r’, ‘vlag’, ‘vlag_r’, ‘winter’, ‘winter_r’"
   ]
  },
  {
   "cell_type": "code",
   "execution_count": 14,
   "id": "6271b825",
   "metadata": {},
   "outputs": [
    {
     "data": {
      "text/plain": [
       "2    458\n",
       "4    241\n",
       "Name: Class, dtype: int64"
      ]
     },
     "execution_count": 14,
     "metadata": {},
     "output_type": "execute_result"
    }
   ],
   "source": [
    "data['Class'].value_counts()"
   ]
  },
  {
   "cell_type": "markdown",
   "id": "bb1c032d",
   "metadata": {},
   "source": [
    "# Feature Selection on X data of train and test"
   ]
  },
  {
   "cell_type": "code",
   "execution_count": 15,
   "id": "7cd31b3b",
   "metadata": {},
   "outputs": [],
   "source": [
    "from sklearn.feature_selection import VarianceThreshold\n",
    "var_thresh=VarianceThreshold(threshold=0)"
   ]
  },
  {
   "cell_type": "code",
   "execution_count": 16,
   "id": "962d82ea",
   "metadata": {},
   "outputs": [
    {
     "data": {
      "text/plain": [
       "VarianceThreshold(threshold=0)"
      ]
     },
     "execution_count": 16,
     "metadata": {},
     "output_type": "execute_result"
    }
   ],
   "source": [
    "var_thresh.fit(data)"
   ]
  },
  {
   "cell_type": "code",
   "execution_count": 17,
   "id": "e6393de0",
   "metadata": {},
   "outputs": [
    {
     "data": {
      "text/plain": [
       "VarianceThreshold(threshold=0)"
      ]
     },
     "execution_count": 17,
     "metadata": {},
     "output_type": "execute_result"
    }
   ],
   "source": [
    "var_thresh"
   ]
  },
  {
   "cell_type": "code",
   "execution_count": 18,
   "id": "58fbfca3",
   "metadata": {},
   "outputs": [
    {
     "data": {
      "text/plain": [
       "array([ True,  True,  True,  True,  True,  True,  True,  True,  True,\n",
       "        True,  True])"
      ]
     },
     "execution_count": 18,
     "metadata": {},
     "output_type": "execute_result"
    }
   ],
   "source": [
    "var_thresh.get_support()"
   ]
  },
  {
   "cell_type": "code",
   "execution_count": 19,
   "id": "ed26f1c5",
   "metadata": {},
   "outputs": [
    {
     "data": {
      "text/plain": [
       "[]"
      ]
     },
     "execution_count": 19,
     "metadata": {},
     "output_type": "execute_result"
    }
   ],
   "source": [
    "const_column=[column for column in data.columns if column not in data.columns[var_thresh.get_support()]]\n",
    "const_column"
   ]
  },
  {
   "cell_type": "code",
   "execution_count": 20,
   "id": "4532bb32",
   "metadata": {},
   "outputs": [
    {
     "data": {
      "text/plain": [
       "0"
      ]
     },
     "execution_count": 20,
     "metadata": {},
     "output_type": "execute_result"
    }
   ],
   "source": [
    "# so the dataset's feature has no any zero variance.\n",
    "len(const_column)"
   ]
  },
  {
   "cell_type": "markdown",
   "id": "3f605433",
   "metadata": {},
   "source": [
    "Model Creation"
   ]
  },
  {
   "cell_type": "code",
   "execution_count": 21,
   "id": "3b75c9f6",
   "metadata": {},
   "outputs": [],
   "source": [
    "x=data.drop(['Class','Id'],axis=1)\n",
    "y=data[['Class']]"
   ]
  },
  {
   "cell_type": "code",
   "execution_count": 22,
   "id": "1532dde7",
   "metadata": {},
   "outputs": [],
   "source": [
    "xtrain, xtest, ytrain, ytest=train_test_split(x, y, test_size=.25, random_state=12345)"
   ]
  },
  {
   "cell_type": "markdown",
   "id": "662da9d6",
   "metadata": {},
   "source": [
    "# scaling the x data of train and test"
   ]
  },
  {
   "cell_type": "code",
   "execution_count": 23,
   "id": "1ad74ddc",
   "metadata": {},
   "outputs": [],
   "source": [
    "from sklearn.preprocessing import StandardScaler"
   ]
  },
  {
   "cell_type": "code",
   "execution_count": 24,
   "id": "17d473e5",
   "metadata": {},
   "outputs": [],
   "source": [
    "scaler=StandardScaler()\n",
    "train=scaler.fit_transform(xtrain)\n",
    "test=scaler.transform(xtest)"
   ]
  },
  {
   "cell_type": "code",
   "execution_count": 25,
   "id": "15bd3d11",
   "metadata": {},
   "outputs": [],
   "source": [
    "col=xtrain.columns\n",
    "x_train=pd.DataFrame(train, columns=[col])\n",
    "x_test=pd.DataFrame(test, columns=[col])"
   ]
  },
  {
   "cell_type": "code",
   "execution_count": 26,
   "id": "6690a0a0",
   "metadata": {},
   "outputs": [
    {
     "data": {
      "text/html": [
       "<div>\n",
       "<style scoped>\n",
       "    .dataframe tbody tr th:only-of-type {\n",
       "        vertical-align: middle;\n",
       "    }\n",
       "\n",
       "    .dataframe tbody tr th {\n",
       "        vertical-align: top;\n",
       "    }\n",
       "\n",
       "    .dataframe thead tr th {\n",
       "        text-align: left;\n",
       "    }\n",
       "</style>\n",
       "<table border=\"1\" class=\"dataframe\">\n",
       "  <thead>\n",
       "    <tr>\n",
       "      <th></th>\n",
       "      <th>Clump_thickness</th>\n",
       "      <th>Uniformity_Cell_Size</th>\n",
       "      <th>Uniformity_Cell_Shape</th>\n",
       "      <th>Marginal_Adhesion</th>\n",
       "      <th>Single_Epithelial_Cell_Size</th>\n",
       "      <th>Bare_Nuclei</th>\n",
       "      <th>Bland_Chromatin</th>\n",
       "      <th>Normal_Nucleoli</th>\n",
       "      <th>Mitoses</th>\n",
       "    </tr>\n",
       "  </thead>\n",
       "  <tbody>\n",
       "    <tr>\n",
       "      <th>0</th>\n",
       "      <td>1.957341</td>\n",
       "      <td>2.217234</td>\n",
       "      <td>1.955324</td>\n",
       "      <td>0.068820</td>\n",
       "      <td>1.628880</td>\n",
       "      <td>0.418618</td>\n",
       "      <td>-0.199609</td>\n",
       "      <td>0.721222</td>\n",
       "      <td>-0.340449</td>\n",
       "    </tr>\n",
       "    <tr>\n",
       "      <th>1</th>\n",
       "      <td>-0.851688</td>\n",
       "      <td>-0.709291</td>\n",
       "      <td>-0.755231</td>\n",
       "      <td>-0.631409</td>\n",
       "      <td>-0.117479</td>\n",
       "      <td>-0.685058</td>\n",
       "      <td>-0.603451</td>\n",
       "      <td>-0.617734</td>\n",
       "      <td>-0.340449</td>\n",
       "    </tr>\n",
       "    <tr>\n",
       "      <th>2</th>\n",
       "      <td>-0.851688</td>\n",
       "      <td>-0.709291</td>\n",
       "      <td>-0.755231</td>\n",
       "      <td>-0.631409</td>\n",
       "      <td>-0.554069</td>\n",
       "      <td>-0.685058</td>\n",
       "      <td>-1.007293</td>\n",
       "      <td>-0.617734</td>\n",
       "      <td>-0.340449</td>\n",
       "    </tr>\n",
       "    <tr>\n",
       "      <th>3</th>\n",
       "      <td>1.255084</td>\n",
       "      <td>2.217234</td>\n",
       "      <td>-0.077592</td>\n",
       "      <td>-0.281294</td>\n",
       "      <td>1.192290</td>\n",
       "      <td>0.142699</td>\n",
       "      <td>-0.199609</td>\n",
       "      <td>2.394916</td>\n",
       "      <td>-0.340449</td>\n",
       "    </tr>\n",
       "    <tr>\n",
       "      <th>4</th>\n",
       "      <td>-1.202816</td>\n",
       "      <td>-0.709291</td>\n",
       "      <td>-0.755231</td>\n",
       "      <td>-0.281294</td>\n",
       "      <td>-0.554069</td>\n",
       "      <td>-0.685058</td>\n",
       "      <td>-0.199609</td>\n",
       "      <td>-0.617734</td>\n",
       "      <td>-0.340449</td>\n",
       "    </tr>\n",
       "  </tbody>\n",
       "</table>\n",
       "</div>"
      ],
      "text/plain": [
       "  Clump_thickness Uniformity_Cell_Size Uniformity_Cell_Shape  \\\n",
       "0        1.957341             2.217234              1.955324   \n",
       "1       -0.851688            -0.709291             -0.755231   \n",
       "2       -0.851688            -0.709291             -0.755231   \n",
       "3        1.255084             2.217234             -0.077592   \n",
       "4       -1.202816            -0.709291             -0.755231   \n",
       "\n",
       "  Marginal_Adhesion Single_Epithelial_Cell_Size Bare_Nuclei Bland_Chromatin  \\\n",
       "0          0.068820                    1.628880    0.418618       -0.199609   \n",
       "1         -0.631409                   -0.117479   -0.685058       -0.603451   \n",
       "2         -0.631409                   -0.554069   -0.685058       -1.007293   \n",
       "3         -0.281294                    1.192290    0.142699       -0.199609   \n",
       "4         -0.281294                   -0.554069   -0.685058       -0.199609   \n",
       "\n",
       "  Normal_Nucleoli   Mitoses  \n",
       "0        0.721222 -0.340449  \n",
       "1       -0.617734 -0.340449  \n",
       "2       -0.617734 -0.340449  \n",
       "3        2.394916 -0.340449  \n",
       "4       -0.617734 -0.340449  "
      ]
     },
     "execution_count": 26,
     "metadata": {},
     "output_type": "execute_result"
    }
   ],
   "source": [
    "x_train.head()"
   ]
  },
  {
   "cell_type": "markdown",
   "id": "25c406cb",
   "metadata": {},
   "source": [
    "# KNN classifier model"
   ]
  },
  {
   "cell_type": "code",
   "execution_count": 27,
   "id": "68a1f72e",
   "metadata": {},
   "outputs": [
    {
     "data": {
      "text/plain": [
       "KNeighborsClassifier()"
      ]
     },
     "execution_count": 27,
     "metadata": {},
     "output_type": "execute_result"
    }
   ],
   "source": [
    "# apply model\n",
    "knear=KNeighborsClassifier()\n",
    "knear.fit(x_train, ytrain)"
   ]
  },
  {
   "cell_type": "code",
   "execution_count": 28,
   "id": "127d00e1",
   "metadata": {},
   "outputs": [],
   "source": [
    "ypred=knear.predict(x_test)"
   ]
  },
  {
   "cell_type": "code",
   "execution_count": 29,
   "id": "bf00ec4b",
   "metadata": {},
   "outputs": [
    {
     "data": {
      "text/plain": [
       "0.9828571428571429"
      ]
     },
     "execution_count": 29,
     "metadata": {},
     "output_type": "execute_result"
    }
   ],
   "source": [
    "# model accuracy at k=5 ------> default\n",
    "accuracy=accuracy_score(ypred, ytest)\n",
    "accuracy"
   ]
  },
  {
   "cell_type": "markdown",
   "id": "98b616f8",
   "metadata": {},
   "source": [
    "# Tunning of KNN model on different parameters"
   ]
  },
  {
   "cell_type": "code",
   "execution_count": 30,
   "id": "0073936e",
   "metadata": {},
   "outputs": [],
   "source": [
    "# hyper perameter the model at different parameters\n",
    "from sklearn.model_selection import RandomizedSearchCV"
   ]
  },
  {
   "cell_type": "code",
   "execution_count": 31,
   "id": "e1c417d6",
   "metadata": {},
   "outputs": [
    {
     "data": {
      "text/plain": [
       "RandomizedSearchCV(estimator=KNeighborsClassifier(),\n",
       "                   param_distributions={'algorithm': ['auto', 'ball_tree',\n",
       "                                                      'kd_tree', 'brute'],\n",
       "                                        'leaf_size': [10, 20, 30, 40],\n",
       "                                        'n_neighbors': [1, 3, 5, 7, 9, 11, 6,\n",
       "                                                        8],\n",
       "                                        'p': [2, 3, 4, 5, 6]})"
      ]
     },
     "execution_count": 31,
     "metadata": {},
     "output_type": "execute_result"
    }
   ],
   "source": [
    "parameter={'n_neighbors':[1,3,5,7,9,11,6,8],\n",
    "          'algorithm':['auto', 'ball_tree', 'kd_tree', 'brute'],\n",
    "          'leaf_size':[10,20,30,40],\n",
    "          'p':[2,3,4,5,6]}\n",
    "new_mod=RandomizedSearchCV(knear,parameter)\n",
    "new_mod.fit(x_train, ytrain)"
   ]
  },
  {
   "cell_type": "code",
   "execution_count": 32,
   "id": "f236e320",
   "metadata": {
    "scrolled": true
   },
   "outputs": [
    {
     "data": {
      "text/plain": [
       "98.0"
      ]
     },
     "execution_count": 32,
     "metadata": {},
     "output_type": "execute_result"
    }
   ],
   "source": [
    "accuracy_score(ypred, ytest).round(2)*100"
   ]
  },
  {
   "cell_type": "code",
   "execution_count": 33,
   "id": "c9e6c8b6",
   "metadata": {},
   "outputs": [
    {
     "data": {
      "text/plain": [
       "{'p': 3, 'n_neighbors': 9, 'leaf_size': 20, 'algorithm': 'auto'}"
      ]
     },
     "execution_count": 33,
     "metadata": {},
     "output_type": "execute_result"
    }
   ],
   "source": [
    "new_mod.best_params_"
   ]
  },
  {
   "cell_type": "code",
   "execution_count": 34,
   "id": "389e53be",
   "metadata": {},
   "outputs": [
    {
     "data": {
      "text/plain": [
       "97.0"
      ]
     },
     "execution_count": 34,
     "metadata": {},
     "output_type": "execute_result"
    }
   ],
   "source": [
    "ypredd=knear.predict(x_train)\n",
    "accuracy_score(ypredd, ytrain).round(2)*100"
   ]
  },
  {
   "cell_type": "markdown",
   "id": "ba0fbb0f",
   "metadata": {},
   "source": [
    "# Checking the overfitting and underfitting of model"
   ]
  },
  {
   "cell_type": "code",
   "execution_count": 35,
   "id": "3fa52032",
   "metadata": {},
   "outputs": [
    {
     "name": "stdout",
     "output_type": "stream",
     "text": [
      "Training set score:  0.9713740458015268\n",
      "Test set score:  0.9828571428571429\n"
     ]
    }
   ],
   "source": [
    "print('Training set score: ',accuracy_score(ypredd, ytrain))\n",
    "\n",
    "print('Test set score: ',accuracy_score(ypred, ytest))"
   ]
  },
  {
   "cell_type": "markdown",
   "id": "56e3bd9b",
   "metadata": {},
   "source": [
    "above accuracy of both model are almost in same range so there is no any concept of overfitting and underfitting in model"
   ]
  },
  {
   "cell_type": "code",
   "execution_count": 36,
   "id": "867fda4a",
   "metadata": {},
   "outputs": [
    {
     "name": "stdout",
     "output_type": "stream",
     "text": [
      "              precision    recall  f1-score   support\n",
      "\n",
      "           2       0.97      0.98      0.98       337\n",
      "           4       0.97      0.95      0.96       187\n",
      "\n",
      "    accuracy                           0.97       524\n",
      "   macro avg       0.97      0.97      0.97       524\n",
      "weighted avg       0.97      0.97      0.97       524\n",
      "\n"
     ]
    }
   ],
   "source": [
    "# classification report of the model on train data\n",
    "print(classification_report(ypredd, ytrain))"
   ]
  },
  {
   "cell_type": "code",
   "execution_count": 37,
   "id": "e779d71f",
   "metadata": {},
   "outputs": [
    {
     "name": "stdout",
     "output_type": "stream",
     "text": [
      "              precision    recall  f1-score   support\n",
      "\n",
      "           2       0.98      0.99      0.99       117\n",
      "           4       0.98      0.97      0.97        58\n",
      "\n",
      "    accuracy                           0.98       175\n",
      "   macro avg       0.98      0.98      0.98       175\n",
      "weighted avg       0.98      0.98      0.98       175\n",
      "\n"
     ]
    }
   ],
   "source": [
    "print(classification_report(ypred, ytest))"
   ]
  },
  {
   "cell_type": "code",
   "execution_count": null,
   "id": "a017f66f",
   "metadata": {},
   "outputs": [],
   "source": []
  }
 ],
 "metadata": {
  "kernelspec": {
   "display_name": "Python 3 (ipykernel)",
   "language": "python",
   "name": "python3"
  },
  "language_info": {
   "codemirror_mode": {
    "name": "ipython",
    "version": 3
   },
   "file_extension": ".py",
   "mimetype": "text/x-python",
   "name": "python",
   "nbconvert_exporter": "python",
   "pygments_lexer": "ipython3",
   "version": "3.9.7"
  }
 },
 "nbformat": 4,
 "nbformat_minor": 5
}
