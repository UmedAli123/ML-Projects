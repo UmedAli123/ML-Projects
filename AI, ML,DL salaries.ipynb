{
 "cells": [
  {
   "cell_type": "raw",
   "id": "bbe1c9e1",
   "metadata": {},
   "source": [
    "# Column meaning\n",
    "work_year: The year the salary was paid.\n",
    "experience_level: The experience level in the job during the year with the following possible values\n",
    "EN Entry-level\n",
    "MI Junior Mid-level\n",
    "SE Intermediate Senior-level\n",
    "EX Expert Executive-level / Director\n",
    "\n",
    "\n",
    "employment_type: The type of employment for the role\n",
    "PT Part-time\n",
    "FT Full-time\n",
    "CT Contract\n",
    "FL Freelance\n",
    "\n",
    "\n",
    "job_title: The role worked in during the year.\n",
    "\n",
    "\n",
    "salary: The total gross salary amount paid.\n",
    "\n",
    "\n",
    "salary_currency: The currency of the salary paid as an ISO 4217 currency code.\n",
    "\n",
    "\n",
    "salary_in_usd: The salary in USD (FX rate divided by avg. USD rate for the respective year via fxdata.foorilla.com.\n",
    "\n",
    "\n",
    "employee_residence: Employee's primary country of residence in during the work year as an ISO 3166 country code.\n",
    "\n",
    "\n",
    "remote_ratio: The overall amount of work done remotely, possible values are as follows\n",
    "0 No remote work (less than 20%)\n",
    "50 Partially remote\n",
    "100 Fully remote (more than 80%)\n",
    "\n",
    "\n",
    "company_location: The country of the employer's main office or contracting branch as an ISO 3166 country code.\n",
    "\n",
    "\n",
    "company_size: The average number of people that worked for the company during the year\n",
    "S less than 50 employees (small)\n",
    "M 50 to 250 employees (medium)\n",
    "L more than 250 employees (large)"
   ]
  },
  {
   "cell_type": "code",
   "execution_count": 1,
   "id": "e26b53cc",
   "metadata": {},
   "outputs": [],
   "source": [
    "import pandas as pd\n",
    "import numpy as np\n",
    "import matplotlib.pyplot as plt\n",
    "import seaborn as sns\n",
    "import warnings\n",
    "warnings.filterwarnings('ignore')"
   ]
  },
  {
   "cell_type": "code",
   "execution_count": 2,
   "id": "332a5c33",
   "metadata": {},
   "outputs": [
    {
     "data": {
      "text/html": [
       "<div>\n",
       "<style scoped>\n",
       "    .dataframe tbody tr th:only-of-type {\n",
       "        vertical-align: middle;\n",
       "    }\n",
       "\n",
       "    .dataframe tbody tr th {\n",
       "        vertical-align: top;\n",
       "    }\n",
       "\n",
       "    .dataframe thead th {\n",
       "        text-align: right;\n",
       "    }\n",
       "</style>\n",
       "<table border=\"1\" class=\"dataframe\">\n",
       "  <thead>\n",
       "    <tr style=\"text-align: right;\">\n",
       "      <th></th>\n",
       "      <th>work_year</th>\n",
       "      <th>experience_level</th>\n",
       "      <th>employment_type</th>\n",
       "      <th>job_title</th>\n",
       "      <th>salary</th>\n",
       "      <th>salary_currency</th>\n",
       "      <th>salary_in_usd</th>\n",
       "      <th>employee_residence</th>\n",
       "      <th>remote_ratio</th>\n",
       "      <th>company_location</th>\n",
       "      <th>company_size</th>\n",
       "    </tr>\n",
       "  </thead>\n",
       "  <tbody>\n",
       "    <tr>\n",
       "      <th>0</th>\n",
       "      <td>2023</td>\n",
       "      <td>MI</td>\n",
       "      <td>FT</td>\n",
       "      <td>AWS Data Architect</td>\n",
       "      <td>258000</td>\n",
       "      <td>USD</td>\n",
       "      <td>258000</td>\n",
       "      <td>US</td>\n",
       "      <td>100</td>\n",
       "      <td>US</td>\n",
       "      <td>L</td>\n",
       "    </tr>\n",
       "    <tr>\n",
       "      <th>1</th>\n",
       "      <td>2023</td>\n",
       "      <td>SE</td>\n",
       "      <td>FT</td>\n",
       "      <td>Data Scientist</td>\n",
       "      <td>225000</td>\n",
       "      <td>USD</td>\n",
       "      <td>225000</td>\n",
       "      <td>US</td>\n",
       "      <td>0</td>\n",
       "      <td>US</td>\n",
       "      <td>M</td>\n",
       "    </tr>\n",
       "    <tr>\n",
       "      <th>2</th>\n",
       "      <td>2023</td>\n",
       "      <td>SE</td>\n",
       "      <td>FT</td>\n",
       "      <td>Data Scientist</td>\n",
       "      <td>156400</td>\n",
       "      <td>USD</td>\n",
       "      <td>156400</td>\n",
       "      <td>US</td>\n",
       "      <td>0</td>\n",
       "      <td>US</td>\n",
       "      <td>M</td>\n",
       "    </tr>\n",
       "    <tr>\n",
       "      <th>3</th>\n",
       "      <td>2023</td>\n",
       "      <td>SE</td>\n",
       "      <td>FT</td>\n",
       "      <td>Data Engineer</td>\n",
       "      <td>190000</td>\n",
       "      <td>USD</td>\n",
       "      <td>190000</td>\n",
       "      <td>US</td>\n",
       "      <td>100</td>\n",
       "      <td>US</td>\n",
       "      <td>M</td>\n",
       "    </tr>\n",
       "    <tr>\n",
       "      <th>4</th>\n",
       "      <td>2023</td>\n",
       "      <td>SE</td>\n",
       "      <td>FT</td>\n",
       "      <td>Data Engineer</td>\n",
       "      <td>150000</td>\n",
       "      <td>USD</td>\n",
       "      <td>150000</td>\n",
       "      <td>US</td>\n",
       "      <td>100</td>\n",
       "      <td>US</td>\n",
       "      <td>M</td>\n",
       "    </tr>\n",
       "  </tbody>\n",
       "</table>\n",
       "</div>"
      ],
      "text/plain": [
       "   work_year experience_level employment_type           job_title  salary   \n",
       "0       2023               MI              FT  AWS Data Architect  258000  \\\n",
       "1       2023               SE              FT      Data Scientist  225000   \n",
       "2       2023               SE              FT      Data Scientist  156400   \n",
       "3       2023               SE              FT       Data Engineer  190000   \n",
       "4       2023               SE              FT       Data Engineer  150000   \n",
       "\n",
       "  salary_currency  salary_in_usd employee_residence  remote_ratio   \n",
       "0             USD         258000                 US           100  \\\n",
       "1             USD         225000                 US             0   \n",
       "2             USD         156400                 US             0   \n",
       "3             USD         190000                 US           100   \n",
       "4             USD         150000                 US           100   \n",
       "\n",
       "  company_location company_size  \n",
       "0               US            L  \n",
       "1               US            M  \n",
       "2               US            M  \n",
       "3               US            M  \n",
       "4               US            M  "
      ]
     },
     "execution_count": 2,
     "metadata": {},
     "output_type": "execute_result"
    }
   ],
   "source": [
    "sal=pd.read_csv('developer_salary.csv')\n",
    "sal.head()"
   ]
  },
  {
   "cell_type": "code",
   "execution_count": 3,
   "id": "900c144d",
   "metadata": {},
   "outputs": [
    {
     "data": {
      "text/plain": [
       "(4134, 11)"
      ]
     },
     "execution_count": 3,
     "metadata": {},
     "output_type": "execute_result"
    }
   ],
   "source": [
    "sal.shape"
   ]
  },
  {
   "cell_type": "code",
   "execution_count": 4,
   "id": "5d16a3c3",
   "metadata": {},
   "outputs": [
    {
     "data": {
      "text/html": [
       "<div>\n",
       "<style scoped>\n",
       "    .dataframe tbody tr th:only-of-type {\n",
       "        vertical-align: middle;\n",
       "    }\n",
       "\n",
       "    .dataframe tbody tr th {\n",
       "        vertical-align: top;\n",
       "    }\n",
       "\n",
       "    .dataframe thead th {\n",
       "        text-align: right;\n",
       "    }\n",
       "</style>\n",
       "<table border=\"1\" class=\"dataframe\">\n",
       "  <thead>\n",
       "    <tr style=\"text-align: right;\">\n",
       "      <th></th>\n",
       "      <th>count</th>\n",
       "      <th>mean</th>\n",
       "      <th>std</th>\n",
       "      <th>min</th>\n",
       "      <th>25%</th>\n",
       "      <th>50%</th>\n",
       "      <th>75%</th>\n",
       "      <th>max</th>\n",
       "    </tr>\n",
       "  </thead>\n",
       "  <tbody>\n",
       "    <tr>\n",
       "      <th>work_year</th>\n",
       "      <td>4134.0</td>\n",
       "      <td>2022.428882</td>\n",
       "      <td>0.684520</td>\n",
       "      <td>2020.0</td>\n",
       "      <td>2022.0</td>\n",
       "      <td>2023.0</td>\n",
       "      <td>2023.0</td>\n",
       "      <td>2023.0</td>\n",
       "    </tr>\n",
       "    <tr>\n",
       "      <th>salary</th>\n",
       "      <td>4134.0</td>\n",
       "      <td>189428.714320</td>\n",
       "      <td>646007.526747</td>\n",
       "      <td>6000.0</td>\n",
       "      <td>100000.0</td>\n",
       "      <td>140000.0</td>\n",
       "      <td>183310.0</td>\n",
       "      <td>30400000.0</td>\n",
       "    </tr>\n",
       "    <tr>\n",
       "      <th>salary_in_usd</th>\n",
       "      <td>4134.0</td>\n",
       "      <td>139416.264393</td>\n",
       "      <td>63605.472000</td>\n",
       "      <td>5132.0</td>\n",
       "      <td>96817.0</td>\n",
       "      <td>136000.0</td>\n",
       "      <td>179820.0</td>\n",
       "      <td>450000.0</td>\n",
       "    </tr>\n",
       "    <tr>\n",
       "      <th>remote_ratio</th>\n",
       "      <td>4134.0</td>\n",
       "      <td>45.936139</td>\n",
       "      <td>48.624255</td>\n",
       "      <td>0.0</td>\n",
       "      <td>0.0</td>\n",
       "      <td>0.0</td>\n",
       "      <td>100.0</td>\n",
       "      <td>100.0</td>\n",
       "    </tr>\n",
       "  </tbody>\n",
       "</table>\n",
       "</div>"
      ],
      "text/plain": [
       "                count           mean            std     min       25%   \n",
       "work_year      4134.0    2022.428882       0.684520  2020.0    2022.0  \\\n",
       "salary         4134.0  189428.714320  646007.526747  6000.0  100000.0   \n",
       "salary_in_usd  4134.0  139416.264393   63605.472000  5132.0   96817.0   \n",
       "remote_ratio   4134.0      45.936139      48.624255     0.0       0.0   \n",
       "\n",
       "                    50%       75%         max  \n",
       "work_year        2023.0    2023.0      2023.0  \n",
       "salary         140000.0  183310.0  30400000.0  \n",
       "salary_in_usd  136000.0  179820.0    450000.0  \n",
       "remote_ratio        0.0     100.0       100.0  "
      ]
     },
     "execution_count": 4,
     "metadata": {},
     "output_type": "execute_result"
    }
   ],
   "source": [
    "sal.describe().T"
   ]
  },
  {
   "cell_type": "code",
   "execution_count": 5,
   "id": "f9a03f78",
   "metadata": {},
   "outputs": [
    {
     "data": {
      "text/plain": [
       "work_year             0\n",
       "experience_level      0\n",
       "employment_type       0\n",
       "job_title             0\n",
       "salary                0\n",
       "salary_currency       0\n",
       "salary_in_usd         0\n",
       "employee_residence    0\n",
       "remote_ratio          0\n",
       "company_location      0\n",
       "company_size          0\n",
       "dtype: int64"
      ]
     },
     "execution_count": 5,
     "metadata": {},
     "output_type": "execute_result"
    }
   ],
   "source": [
    "sal.isnull().sum()"
   ]
  },
  {
   "cell_type": "code",
   "execution_count": 6,
   "id": "538f3936",
   "metadata": {},
   "outputs": [
    {
     "data": {
      "text/plain": [
       "work_year                4\n",
       "experience_level         4\n",
       "employment_type          4\n",
       "job_title               99\n",
       "salary                 859\n",
       "salary_currency         22\n",
       "salary_in_usd         1088\n",
       "employee_residence      80\n",
       "remote_ratio             3\n",
       "company_location        74\n",
       "company_size             3\n",
       "dtype: int64"
      ]
     },
     "execution_count": 6,
     "metadata": {},
     "output_type": "execute_result"
    }
   ],
   "source": [
    "sal.nunique()"
   ]
  },
  {
   "cell_type": "code",
   "execution_count": 7,
   "id": "735f6977",
   "metadata": {},
   "outputs": [
    {
     "name": "stdout",
     "output_type": "stream",
     "text": [
      "['AWS Data Architect' 'Data Scientist' 'Data Engineer' 'Applied Scientist'\n",
      " 'ML Engineer' 'Data Analyst' 'Machine Learning Engineer' 'Data Manager'\n",
      " 'Product Data Analyst' 'Autonomous Vehicle Operations Lead'\n",
      " 'Applied Machine Learning Engineer' 'Analytics Engineer' 'ETL Developer'\n",
      " 'Business Intelligence Engineer' 'BI Data Analyst'\n",
      " 'Machine Learning Developer' 'Research Engineer'\n",
      " 'Data Integration Specialist' 'Data Architect' 'BI Developer'\n",
      " 'Data Visualization Analyst' 'Head of Data'\n",
      " 'Autonomous Vehicle Technician' 'Data Modeler' 'Sales Data Analyst'\n",
      " 'Cloud Data Engineer' 'Finance Data Analyst' 'Research Scientist'\n",
      " 'Data Analytics Manager' 'Data Specialist' 'Data Operations Analyst'\n",
      " 'Director of Data Science' 'Data Science Manager' 'Data Science Lead'\n",
      " 'Machine Learning Scientist' 'AI Scientist' 'Computer Vision Engineer'\n",
      " 'Data Science Consultant' 'Decision Scientist' 'Business Data Analyst'\n",
      " 'Machine Learning Software Engineer' 'NLP Engineer'\n",
      " 'Principal Data Scientist' 'Data Strategist' 'Compliance Data Analyst'\n",
      " 'Applied Data Scientist' 'Staff Data Analyst' 'ETL Engineer'\n",
      " 'Data DevOps Engineer' 'AI Developer' 'Data Quality Analyst'\n",
      " 'Machine Learning Researcher' 'Big Data Engineer' 'Lead Data Analyst'\n",
      " 'BI Data Engineer' 'MLOps Engineer' 'Applied Machine Learning Scientist'\n",
      " 'Lead Data Scientist' 'Cloud Database Engineer' 'Financial Data Analyst'\n",
      " 'Data Infrastructure Engineer' 'Software Data Engineer' 'AI Programmer'\n",
      " 'Data Operations Engineer' 'Deep Learning Researcher' 'BI Analyst'\n",
      " 'Data Analytics Specialist' 'Machine Learning Infrastructure Engineer'\n",
      " 'Head of Data Science' 'Insight Analyst' 'Deep Learning Engineer'\n",
      " 'Big Data Architect' 'Computer Vision Software Engineer'\n",
      " 'Azure Data Engineer' 'Marketing Data Engineer' 'Data Analytics Lead'\n",
      " 'Data Lead' 'Data Science Engineer' 'Machine Learning Research Engineer'\n",
      " 'Manager Data Management' '3D Computer Vision Researcher'\n",
      " 'Principal Machine Learning Engineer' 'Data Analytics Engineer'\n",
      " 'Data Analytics Consultant' 'Data Management Specialist'\n",
      " 'Data Science Tech Lead' 'Data Scientist Lead' 'Marketing Data Analyst'\n",
      " 'Power BI Developer' 'Product Data Scientist' 'Principal Data Architect'\n",
      " 'Machine Learning Manager' 'Lead Machine Learning Engineer'\n",
      " 'Cloud Data Architect' 'Lead Data Engineer' 'Head of Machine Learning'\n",
      " 'Principal Data Analyst' 'Principal Data Engineer' 'Staff Data Scientist']\n"
     ]
    }
   ],
   "source": [
    "print(sal['job_title'].unique())"
   ]
  },
  {
   "cell_type": "code",
   "execution_count": 8,
   "id": "e48ed4d1",
   "metadata": {},
   "outputs": [],
   "source": [
    "# convert the price from usd to pkr:\n",
    "sal['PKR_Salary']=sal['salary_in_usd']*283"
   ]
  },
  {
   "cell_type": "code",
   "execution_count": 9,
   "id": "85a3b6e4",
   "metadata": {},
   "outputs": [
    {
     "data": {
      "text/html": [
       "<div>\n",
       "<style scoped>\n",
       "    .dataframe tbody tr th:only-of-type {\n",
       "        vertical-align: middle;\n",
       "    }\n",
       "\n",
       "    .dataframe tbody tr th {\n",
       "        vertical-align: top;\n",
       "    }\n",
       "\n",
       "    .dataframe thead th {\n",
       "        text-align: right;\n",
       "    }\n",
       "</style>\n",
       "<table border=\"1\" class=\"dataframe\">\n",
       "  <thead>\n",
       "    <tr style=\"text-align: right;\">\n",
       "      <th></th>\n",
       "      <th>work_year</th>\n",
       "      <th>experience_level</th>\n",
       "      <th>employment_type</th>\n",
       "      <th>job_title</th>\n",
       "      <th>salary</th>\n",
       "      <th>salary_currency</th>\n",
       "      <th>salary_in_usd</th>\n",
       "      <th>employee_residence</th>\n",
       "      <th>remote_ratio</th>\n",
       "      <th>company_location</th>\n",
       "      <th>company_size</th>\n",
       "      <th>PKR_Salary</th>\n",
       "    </tr>\n",
       "  </thead>\n",
       "  <tbody>\n",
       "    <tr>\n",
       "      <th>4129</th>\n",
       "      <td>2020</td>\n",
       "      <td>SE</td>\n",
       "      <td>FT</td>\n",
       "      <td>Data Scientist</td>\n",
       "      <td>412000</td>\n",
       "      <td>USD</td>\n",
       "      <td>412000</td>\n",
       "      <td>US</td>\n",
       "      <td>100</td>\n",
       "      <td>US</td>\n",
       "      <td>L</td>\n",
       "      <td>116596000</td>\n",
       "    </tr>\n",
       "    <tr>\n",
       "      <th>4130</th>\n",
       "      <td>2021</td>\n",
       "      <td>MI</td>\n",
       "      <td>FT</td>\n",
       "      <td>Principal Data Scientist</td>\n",
       "      <td>151000</td>\n",
       "      <td>USD</td>\n",
       "      <td>151000</td>\n",
       "      <td>US</td>\n",
       "      <td>100</td>\n",
       "      <td>US</td>\n",
       "      <td>L</td>\n",
       "      <td>42733000</td>\n",
       "    </tr>\n",
       "    <tr>\n",
       "      <th>4131</th>\n",
       "      <td>2020</td>\n",
       "      <td>EN</td>\n",
       "      <td>FT</td>\n",
       "      <td>Data Scientist</td>\n",
       "      <td>105000</td>\n",
       "      <td>USD</td>\n",
       "      <td>105000</td>\n",
       "      <td>US</td>\n",
       "      <td>100</td>\n",
       "      <td>US</td>\n",
       "      <td>S</td>\n",
       "      <td>29715000</td>\n",
       "    </tr>\n",
       "    <tr>\n",
       "      <th>4132</th>\n",
       "      <td>2020</td>\n",
       "      <td>EN</td>\n",
       "      <td>CT</td>\n",
       "      <td>Business Data Analyst</td>\n",
       "      <td>100000</td>\n",
       "      <td>USD</td>\n",
       "      <td>100000</td>\n",
       "      <td>US</td>\n",
       "      <td>100</td>\n",
       "      <td>US</td>\n",
       "      <td>L</td>\n",
       "      <td>28300000</td>\n",
       "    </tr>\n",
       "    <tr>\n",
       "      <th>4133</th>\n",
       "      <td>2021</td>\n",
       "      <td>SE</td>\n",
       "      <td>FT</td>\n",
       "      <td>Data Science Manager</td>\n",
       "      <td>7000000</td>\n",
       "      <td>INR</td>\n",
       "      <td>94665</td>\n",
       "      <td>IN</td>\n",
       "      <td>50</td>\n",
       "      <td>IN</td>\n",
       "      <td>L</td>\n",
       "      <td>26790195</td>\n",
       "    </tr>\n",
       "  </tbody>\n",
       "</table>\n",
       "</div>"
      ],
      "text/plain": [
       "      work_year experience_level employment_type                 job_title   \n",
       "4129       2020               SE              FT            Data Scientist  \\\n",
       "4130       2021               MI              FT  Principal Data Scientist   \n",
       "4131       2020               EN              FT            Data Scientist   \n",
       "4132       2020               EN              CT     Business Data Analyst   \n",
       "4133       2021               SE              FT      Data Science Manager   \n",
       "\n",
       "       salary salary_currency  salary_in_usd employee_residence  remote_ratio   \n",
       "4129   412000             USD         412000                 US           100  \\\n",
       "4130   151000             USD         151000                 US           100   \n",
       "4131   105000             USD         105000                 US           100   \n",
       "4132   100000             USD         100000                 US           100   \n",
       "4133  7000000             INR          94665                 IN            50   \n",
       "\n",
       "     company_location company_size  PKR_Salary  \n",
       "4129               US            L   116596000  \n",
       "4130               US            L    42733000  \n",
       "4131               US            S    29715000  \n",
       "4132               US            L    28300000  \n",
       "4133               IN            L    26790195  "
      ]
     },
     "execution_count": 9,
     "metadata": {},
     "output_type": "execute_result"
    }
   ],
   "source": [
    "sal.tail()"
   ]
  },
  {
   "cell_type": "code",
   "execution_count": 10,
   "id": "48b76001",
   "metadata": {},
   "outputs": [],
   "source": [
    "sal.drop(['salary','salary_in_usd','salary_currency'],axis=1, inplace=True)"
   ]
  },
  {
   "cell_type": "code",
   "execution_count": 11,
   "id": "99c4aba9",
   "metadata": {},
   "outputs": [
    {
     "data": {
      "text/html": [
       "<div>\n",
       "<style scoped>\n",
       "    .dataframe tbody tr th:only-of-type {\n",
       "        vertical-align: middle;\n",
       "    }\n",
       "\n",
       "    .dataframe tbody tr th {\n",
       "        vertical-align: top;\n",
       "    }\n",
       "\n",
       "    .dataframe thead th {\n",
       "        text-align: right;\n",
       "    }\n",
       "</style>\n",
       "<table border=\"1\" class=\"dataframe\">\n",
       "  <thead>\n",
       "    <tr style=\"text-align: right;\">\n",
       "      <th></th>\n",
       "      <th>work_year</th>\n",
       "      <th>experience_level</th>\n",
       "      <th>employment_type</th>\n",
       "      <th>job_title</th>\n",
       "      <th>employee_residence</th>\n",
       "      <th>remote_ratio</th>\n",
       "      <th>company_location</th>\n",
       "      <th>company_size</th>\n",
       "      <th>PKR_Salary</th>\n",
       "    </tr>\n",
       "  </thead>\n",
       "  <tbody>\n",
       "    <tr>\n",
       "      <th>0</th>\n",
       "      <td>2023</td>\n",
       "      <td>MI</td>\n",
       "      <td>FT</td>\n",
       "      <td>AWS Data Architect</td>\n",
       "      <td>US</td>\n",
       "      <td>100</td>\n",
       "      <td>US</td>\n",
       "      <td>L</td>\n",
       "      <td>73014000</td>\n",
       "    </tr>\n",
       "    <tr>\n",
       "      <th>1</th>\n",
       "      <td>2023</td>\n",
       "      <td>SE</td>\n",
       "      <td>FT</td>\n",
       "      <td>Data Scientist</td>\n",
       "      <td>US</td>\n",
       "      <td>0</td>\n",
       "      <td>US</td>\n",
       "      <td>M</td>\n",
       "      <td>63675000</td>\n",
       "    </tr>\n",
       "    <tr>\n",
       "      <th>2</th>\n",
       "      <td>2023</td>\n",
       "      <td>SE</td>\n",
       "      <td>FT</td>\n",
       "      <td>Data Scientist</td>\n",
       "      <td>US</td>\n",
       "      <td>0</td>\n",
       "      <td>US</td>\n",
       "      <td>M</td>\n",
       "      <td>44261200</td>\n",
       "    </tr>\n",
       "    <tr>\n",
       "      <th>3</th>\n",
       "      <td>2023</td>\n",
       "      <td>SE</td>\n",
       "      <td>FT</td>\n",
       "      <td>Data Engineer</td>\n",
       "      <td>US</td>\n",
       "      <td>100</td>\n",
       "      <td>US</td>\n",
       "      <td>M</td>\n",
       "      <td>53770000</td>\n",
       "    </tr>\n",
       "    <tr>\n",
       "      <th>4</th>\n",
       "      <td>2023</td>\n",
       "      <td>SE</td>\n",
       "      <td>FT</td>\n",
       "      <td>Data Engineer</td>\n",
       "      <td>US</td>\n",
       "      <td>100</td>\n",
       "      <td>US</td>\n",
       "      <td>M</td>\n",
       "      <td>42450000</td>\n",
       "    </tr>\n",
       "    <tr>\n",
       "      <th>5</th>\n",
       "      <td>2023</td>\n",
       "      <td>SE</td>\n",
       "      <td>FT</td>\n",
       "      <td>Data Scientist</td>\n",
       "      <td>US</td>\n",
       "      <td>0</td>\n",
       "      <td>US</td>\n",
       "      <td>M</td>\n",
       "      <td>55468000</td>\n",
       "    </tr>\n",
       "    <tr>\n",
       "      <th>6</th>\n",
       "      <td>2023</td>\n",
       "      <td>SE</td>\n",
       "      <td>FT</td>\n",
       "      <td>Data Scientist</td>\n",
       "      <td>US</td>\n",
       "      <td>0</td>\n",
       "      <td>US</td>\n",
       "      <td>M</td>\n",
       "      <td>34243000</td>\n",
       "    </tr>\n",
       "    <tr>\n",
       "      <th>7</th>\n",
       "      <td>2023</td>\n",
       "      <td>SE</td>\n",
       "      <td>FT</td>\n",
       "      <td>Data Scientist</td>\n",
       "      <td>US</td>\n",
       "      <td>0</td>\n",
       "      <td>US</td>\n",
       "      <td>M</td>\n",
       "      <td>61977000</td>\n",
       "    </tr>\n",
       "    <tr>\n",
       "      <th>8</th>\n",
       "      <td>2023</td>\n",
       "      <td>SE</td>\n",
       "      <td>FT</td>\n",
       "      <td>Data Scientist</td>\n",
       "      <td>US</td>\n",
       "      <td>0</td>\n",
       "      <td>US</td>\n",
       "      <td>M</td>\n",
       "      <td>39903000</td>\n",
       "    </tr>\n",
       "  </tbody>\n",
       "</table>\n",
       "</div>"
      ],
      "text/plain": [
       "   work_year experience_level employment_type           job_title   \n",
       "0       2023               MI              FT  AWS Data Architect  \\\n",
       "1       2023               SE              FT      Data Scientist   \n",
       "2       2023               SE              FT      Data Scientist   \n",
       "3       2023               SE              FT       Data Engineer   \n",
       "4       2023               SE              FT       Data Engineer   \n",
       "5       2023               SE              FT      Data Scientist   \n",
       "6       2023               SE              FT      Data Scientist   \n",
       "7       2023               SE              FT      Data Scientist   \n",
       "8       2023               SE              FT      Data Scientist   \n",
       "\n",
       "  employee_residence  remote_ratio company_location company_size  PKR_Salary  \n",
       "0                 US           100               US            L    73014000  \n",
       "1                 US             0               US            M    63675000  \n",
       "2                 US             0               US            M    44261200  \n",
       "3                 US           100               US            M    53770000  \n",
       "4                 US           100               US            M    42450000  \n",
       "5                 US             0               US            M    55468000  \n",
       "6                 US             0               US            M    34243000  \n",
       "7                 US             0               US            M    61977000  \n",
       "8                 US             0               US            M    39903000  "
      ]
     },
     "execution_count": 11,
     "metadata": {},
     "output_type": "execute_result"
    }
   ],
   "source": [
    "sal[0:9]"
   ]
  },
  {
   "cell_type": "code",
   "execution_count": 12,
   "id": "9ef9d3bf",
   "metadata": {},
   "outputs": [
    {
     "name": "stdout",
     "output_type": "stream",
     "text": [
      "work_year:  [2023 2022 2021 2020]\n",
      "\n",
      "experience_level:  ['MI' 'SE' 'EN' 'EX']\n",
      "\n",
      "employment_type:  ['FT' 'CT' 'FL' 'PT']\n",
      "\n",
      "employee_residence:  ['US' 'AU' 'AE' 'IN' 'BO' 'DE' 'GB' 'CO' 'EG' 'NG' 'CA' 'UZ' 'ES' 'FR'\n",
      " 'AR' 'GE' 'JP' 'PH' 'ZA' 'IT' 'HK' 'PT' 'NL' 'CH' 'CF' 'FI' 'UA' 'IE'\n",
      " 'IL' 'GH' 'AT' 'SG' 'SE' 'SI' 'MX' 'BR' 'TH' 'HR' 'PL' 'KW' 'VN' 'CY'\n",
      " 'AM' 'BA' 'KE' 'GR' 'MK' 'LV' 'RO' 'PK' 'MA' 'LT' 'BE' 'AS' 'IR' 'HU'\n",
      " 'SK' 'CN' 'CZ' 'CR' 'TR' 'CL' 'PR' 'DK' 'DO' 'ID' 'MY' 'EE' 'HN' 'TN'\n",
      " 'RU' 'DZ' 'IQ' 'BG' 'JE' 'RS' 'NZ' 'MD' 'LU' 'MT']\n",
      "\n",
      "remote_ratio:  [100   0  50]\n",
      "\n",
      "company_location:  ['US' 'AU' 'AE' 'IN' 'SM' 'DE' 'GB' 'CO' 'NG' 'CA' 'JP' 'ES' 'FR' 'RU'\n",
      " 'AR' 'PH' 'ZA' 'IT' 'HK' 'NL' 'CH' 'CF' 'FI' 'UA' 'IE' 'IL' 'GH' 'SG'\n",
      " 'SE' 'SI' 'MX' 'BR' 'PT' 'TH' 'HR' 'VN' 'EE' 'AM' 'BA' 'KE' 'GR' 'MK'\n",
      " 'LV' 'RO' 'PK' 'MA' 'PL' 'AL' 'LT' 'AS' 'CR' 'IR' 'BS' 'HU' 'AT' 'SK'\n",
      " 'CZ' 'TR' 'PR' 'DK' 'BO' 'BE' 'ID' 'EG' 'LU' 'MY' 'HN' 'DZ' 'IQ' 'CN'\n",
      " 'NZ' 'CL' 'MD' 'MT']\n"
     ]
    }
   ],
   "source": [
    "print(\"work_year: \",sal['work_year'].unique())\n",
    "print()\n",
    "print('experience_level: ',sal['experience_level'].unique())\n",
    "print()\n",
    "print('employment_type: ',sal['employment_type'].unique())\n",
    "print()\n",
    "print('employee_residence: ',sal['employee_residence'].unique())\n",
    "print()\n",
    "print('remote_ratio: ',sal['remote_ratio'].unique())\n",
    "print()\n",
    "print('company_location: ',sal['company_location'].unique())"
   ]
  },
  {
   "cell_type": "markdown",
   "id": "1089b375",
   "metadata": {},
   "source": [
    "# EDA"
   ]
  },
  {
   "cell_type": "code",
   "execution_count": 13,
   "id": "5f8a3766",
   "metadata": {},
   "outputs": [
    {
     "data": {
      "text/plain": [
       "<AxesSubplot:xlabel='experience_level', ylabel='PKR_Salary'>"
      ]
     },
     "execution_count": 13,
     "metadata": {},
     "output_type": "execute_result"
    },
    {
     "data": {
      "image/png": "[encoded data removed]",
      "text/plain": [
       "<Figure size 432x288 with 1 Axes>"
      ]
     },
     "metadata": {
      "needs_background": "light"
     },
     "output_type": "display_data"
    }
   ],
   "source": [
    "# plt.yticks(sal['work_year'].unique())\n",
    "sns.barplot(sal['experience_level'],sal['PKR_Salary'])"
   ]
  },
  {
   "cell_type": "code",
   "execution_count": 14,
   "id": "cbb722c0",
   "metadata": {},
   "outputs": [
    {
     "data": {
      "text/plain": [
       "<AxesSubplot:xlabel='company_size', ylabel='PKR_Salary'>"
      ]
     },
     "execution_count": 14,
     "metadata": {},
     "output_type": "execute_result"
    },
    {
     "data": {
      "image/png": "[encoded data removed]",
      "text/plain": [
       "<Figure size 432x288 with 1 Axes>"
      ]
     },
     "metadata": {
      "needs_background": "light"
     },
     "output_type": "display_data"
    }
   ],
   "source": [
    "sns.barplot(sal['company_size'],sal['PKR_Salary'])"
   ]
  },
  {
   "cell_type": "code",
   "execution_count": 15,
   "id": "695150be",
   "metadata": {},
   "outputs": [
    {
     "data": {
      "text/plain": [
       "<AxesSubplot:xlabel='remote_ratio', ylabel='PKR_Salary'>"
      ]
     },
     "execution_count": 15,
     "metadata": {},
     "output_type": "execute_result"
    },
    {
     "data": {
      "image/png": "[encoded data removed]",
      "text/plain": [
       "<Figure size 432x288 with 1 Axes>"
      ]
     },
     "metadata": {
      "needs_background": "light"
     },
     "output_type": "display_data"
    }
   ],
   "source": [
    "sns.barplot(sal['remote_ratio'],sal['PKR_Salary'])"
   ]
  },
  {
   "cell_type": "code",
   "execution_count": 16,
   "id": "ede91313",
   "metadata": {},
   "outputs": [
    {
     "data": {
      "image/png": "[encoded data removed]",
      "text/plain": [
       "<Figure size 1656x648 with 1 Axes>"
      ]
     },
     "metadata": {
      "needs_background": "light"
     },
     "output_type": "display_data"
    }
   ],
   "source": [
    "plt.figure(figsize=(23,9))\n",
    "sns.barplot(sal['employee_residence'],sal['PKR_Salary'])\n",
    "plt.xticks(rotation =360)\n",
    "plt.show()"
   ]
  },
  {
   "cell_type": "code",
   "execution_count": 17,
   "id": "314a9231",
   "metadata": {},
   "outputs": [
    {
     "data": {
      "text/plain": [
       "<AxesSubplot:xlabel='employment_type', ylabel='PKR_Salary'>"
      ]
     },
     "execution_count": 17,
     "metadata": {},
     "output_type": "execute_result"
    },
    {
     "data": {
      "image/png": "[encoded data removed]",
      "text/plain": [
       "<Figure size 432x288 with 1 Axes>"
      ]
     },
     "metadata": {
      "needs_background": "light"
     },
     "output_type": "display_data"
    }
   ],
   "source": [
    "sns.barplot(sal['employment_type'],sal['PKR_Salary'])"
   ]
  },
  {
   "cell_type": "code",
   "execution_count": 18,
   "id": "4d903d23",
   "metadata": {},
   "outputs": [
    {
     "data": {
      "text/plain": [
       "<AxesSubplot:>"
      ]
     },
     "execution_count": 18,
     "metadata": {},
     "output_type": "execute_result"
    },
    {
     "data": {
      "image/png": "[encoded data removed]",
      "text/plain": [
       "<Figure size 720x576 with 2 Axes>"
      ]
     },
     "metadata": {
      "needs_background": "light"
     },
     "output_type": "display_data"
    }
   ],
   "source": [
    "plt.figure(figsize=(10,8))\n",
    "sns.heatmap(sal.describe().corr(),annot=True)"
   ]
  },
  {
   "cell_type": "code",
   "execution_count": 19,
   "id": "5026dac5",
   "metadata": {},
   "outputs": [],
   "source": []
  },
  {
   "cell_type": "code",
   "execution_count": 20,
   "id": "bc8ab4e4",
   "metadata": {},
   "outputs": [
    {
     "data": {
      "text/html": [
       "<div>\n",
       "<style scoped>\n",
       "    .dataframe tbody tr th:only-of-type {\n",
       "        vertical-align: middle;\n",
       "    }\n",
       "\n",
       "    .dataframe tbody tr th {\n",
       "        vertical-align: top;\n",
       "    }\n",
       "\n",
       "    .dataframe thead th {\n",
       "        text-align: right;\n",
       "    }\n",
       "</style>\n",
       "<table border=\"1\" class=\"dataframe\">\n",
       "  <thead>\n",
       "    <tr style=\"text-align: right;\">\n",
       "      <th></th>\n",
       "      <th>work_year</th>\n",
       "      <th>experience_level</th>\n",
       "      <th>employment_type</th>\n",
       "      <th>job_title</th>\n",
       "      <th>employee_residence</th>\n",
       "      <th>remote_ratio</th>\n",
       "      <th>company_location</th>\n",
       "      <th>company_size</th>\n",
       "      <th>PKR_Salary</th>\n",
       "    </tr>\n",
       "  </thead>\n",
       "  <tbody>\n",
       "    <tr>\n",
       "      <th>0</th>\n",
       "      <td>2023</td>\n",
       "      <td>MI</td>\n",
       "      <td>FT</td>\n",
       "      <td>AWS Data Architect</td>\n",
       "      <td>US</td>\n",
       "      <td>100</td>\n",
       "      <td>US</td>\n",
       "      <td>L</td>\n",
       "      <td>73014000</td>\n",
       "    </tr>\n",
       "    <tr>\n",
       "      <th>1</th>\n",
       "      <td>2023</td>\n",
       "      <td>SE</td>\n",
       "      <td>FT</td>\n",
       "      <td>Data Scientist</td>\n",
       "      <td>US</td>\n",
       "      <td>0</td>\n",
       "      <td>US</td>\n",
       "      <td>M</td>\n",
       "      <td>63675000</td>\n",
       "    </tr>\n",
       "  </tbody>\n",
       "</table>\n",
       "</div>"
      ],
      "text/plain": [
       "   work_year experience_level employment_type           job_title   \n",
       "0       2023               MI              FT  AWS Data Architect  \\\n",
       "1       2023               SE              FT      Data Scientist   \n",
       "\n",
       "  employee_residence  remote_ratio company_location company_size  PKR_Salary  \n",
       "0                 US           100               US            L    73014000  \n",
       "1                 US             0               US            M    63675000  "
      ]
     },
     "execution_count": 20,
     "metadata": {},
     "output_type": "execute_result"
    }
   ],
   "source": [
    "sal.head(2)\n"
   ]
  },
  {
   "cell_type": "code",
   "execution_count": 21,
   "id": "aa082413",
   "metadata": {},
   "outputs": [],
   "source": [
    "# col_for_encode=sal['experience_level','employment_type','job_title','employee_residence','company_location','company_size']\n",
    "from sklearn.preprocessing import LabelEncoder\n",
    "le=LabelEncoder()\n",
    "sal['experience_level']=le.fit_transform(sal['experience_level'])\n",
    "sal['employment_type']=le.fit_transform(sal['employment_type'])\n",
    "sal['job_title']=le.fit_transform(sal['job_title'])\n",
    "sal['employee_residence']=le.fit_transform(sal['employee_residence'])\n",
    "sal['company_location']=le.fit_transform(sal['company_location'])\n",
    "sal['company_size']=le.fit_transform(sal['company_size'])"
   ]
  },
  {
   "cell_type": "code",
   "execution_count": 22,
   "id": "43a050ff",
   "metadata": {},
   "outputs": [
    {
     "data": {
      "text/html": [
       "<div>\n",
       "<style scoped>\n",
       "    .dataframe tbody tr th:only-of-type {\n",
       "        vertical-align: middle;\n",
       "    }\n",
       "\n",
       "    .dataframe tbody tr th {\n",
       "        vertical-align: top;\n",
       "    }\n",
       "\n",
       "    .dataframe thead th {\n",
       "        text-align: right;\n",
       "    }\n",
       "</style>\n",
       "<table border=\"1\" class=\"dataframe\">\n",
       "  <thead>\n",
       "    <tr style=\"text-align: right;\">\n",
       "      <th></th>\n",
       "      <th>work_year</th>\n",
       "      <th>experience_level</th>\n",
       "      <th>employment_type</th>\n",
       "      <th>job_title</th>\n",
       "      <th>employee_residence</th>\n",
       "      <th>remote_ratio</th>\n",
       "      <th>company_location</th>\n",
       "      <th>company_size</th>\n",
       "      <th>PKR_Salary</th>\n",
       "    </tr>\n",
       "  </thead>\n",
       "  <tbody>\n",
       "    <tr>\n",
       "      <th>0</th>\n",
       "      <td>2023</td>\n",
       "      <td>2</td>\n",
       "      <td>2</td>\n",
       "      <td>4</td>\n",
       "      <td>76</td>\n",
       "      <td>100</td>\n",
       "      <td>71</td>\n",
       "      <td>0</td>\n",
       "      <td>73014000</td>\n",
       "    </tr>\n",
       "    <tr>\n",
       "      <th>1</th>\n",
       "      <td>2023</td>\n",
       "      <td>3</td>\n",
       "      <td>2</td>\n",
       "      <td>50</td>\n",
       "      <td>76</td>\n",
       "      <td>0</td>\n",
       "      <td>71</td>\n",
       "      <td>1</td>\n",
       "      <td>63675000</td>\n",
       "    </tr>\n",
       "    <tr>\n",
       "      <th>2</th>\n",
       "      <td>2023</td>\n",
       "      <td>3</td>\n",
       "      <td>2</td>\n",
       "      <td>50</td>\n",
       "      <td>76</td>\n",
       "      <td>0</td>\n",
       "      <td>71</td>\n",
       "      <td>1</td>\n",
       "      <td>44261200</td>\n",
       "    </tr>\n",
       "    <tr>\n",
       "      <th>3</th>\n",
       "      <td>2023</td>\n",
       "      <td>3</td>\n",
       "      <td>2</td>\n",
       "      <td>35</td>\n",
       "      <td>76</td>\n",
       "      <td>100</td>\n",
       "      <td>71</td>\n",
       "      <td>1</td>\n",
       "      <td>53770000</td>\n",
       "    </tr>\n",
       "    <tr>\n",
       "      <th>4</th>\n",
       "      <td>2023</td>\n",
       "      <td>3</td>\n",
       "      <td>2</td>\n",
       "      <td>35</td>\n",
       "      <td>76</td>\n",
       "      <td>100</td>\n",
       "      <td>71</td>\n",
       "      <td>1</td>\n",
       "      <td>42450000</td>\n",
       "    </tr>\n",
       "    <tr>\n",
       "      <th>...</th>\n",
       "      <td>...</td>\n",
       "      <td>...</td>\n",
       "      <td>...</td>\n",
       "      <td>...</td>\n",
       "      <td>...</td>\n",
       "      <td>...</td>\n",
       "      <td>...</td>\n",
       "      <td>...</td>\n",
       "      <td>...</td>\n",
       "    </tr>\n",
       "    <tr>\n",
       "      <th>4129</th>\n",
       "      <td>2020</td>\n",
       "      <td>3</td>\n",
       "      <td>2</td>\n",
       "      <td>50</td>\n",
       "      <td>76</td>\n",
       "      <td>100</td>\n",
       "      <td>71</td>\n",
       "      <td>0</td>\n",
       "      <td>116596000</td>\n",
       "    </tr>\n",
       "    <tr>\n",
       "      <th>4130</th>\n",
       "      <td>2021</td>\n",
       "      <td>2</td>\n",
       "      <td>2</td>\n",
       "      <td>89</td>\n",
       "      <td>76</td>\n",
       "      <td>100</td>\n",
       "      <td>71</td>\n",
       "      <td>0</td>\n",
       "      <td>42733000</td>\n",
       "    </tr>\n",
       "    <tr>\n",
       "      <th>4131</th>\n",
       "      <td>2020</td>\n",
       "      <td>0</td>\n",
       "      <td>2</td>\n",
       "      <td>50</td>\n",
       "      <td>76</td>\n",
       "      <td>100</td>\n",
       "      <td>71</td>\n",
       "      <td>2</td>\n",
       "      <td>29715000</td>\n",
       "    </tr>\n",
       "    <tr>\n",
       "      <th>4132</th>\n",
       "      <td>2020</td>\n",
       "      <td>0</td>\n",
       "      <td>0</td>\n",
       "      <td>19</td>\n",
       "      <td>76</td>\n",
       "      <td>100</td>\n",
       "      <td>71</td>\n",
       "      <td>0</td>\n",
       "      <td>28300000</td>\n",
       "    </tr>\n",
       "    <tr>\n",
       "      <th>4133</th>\n",
       "      <td>2021</td>\n",
       "      <td>3</td>\n",
       "      <td>2</td>\n",
       "      <td>48</td>\n",
       "      <td>40</td>\n",
       "      <td>50</td>\n",
       "      <td>38</td>\n",
       "      <td>0</td>\n",
       "      <td>26790195</td>\n",
       "    </tr>\n",
       "  </tbody>\n",
       "</table>\n",
       "<p>4134 rows × 9 columns</p>\n",
       "</div>"
      ],
      "text/plain": [
       "      work_year  experience_level  employment_type  job_title   \n",
       "0          2023                 2                2          4  \\\n",
       "1          2023                 3                2         50   \n",
       "2          2023                 3                2         50   \n",
       "3          2023                 3                2         35   \n",
       "4          2023                 3                2         35   \n",
       "...         ...               ...              ...        ...   \n",
       "4129       2020                 3                2         50   \n",
       "4130       2021                 2                2         89   \n",
       "4131       2020                 0                2         50   \n",
       "4132       2020                 0                0         19   \n",
       "4133       2021                 3                2         48   \n",
       "\n",
       "      employee_residence  remote_ratio  company_location  company_size   \n",
       "0                     76           100                71             0  \\\n",
       "1                     76             0                71             1   \n",
       "2                     76             0                71             1   \n",
       "3                     76           100                71             1   \n",
       "4                     76           100                71             1   \n",
       "...                  ...           ...               ...           ...   \n",
       "4129                  76           100                71             0   \n",
       "4130                  76           100                71             0   \n",
       "4131                  76           100                71             2   \n",
       "4132                  76           100                71             0   \n",
       "4133                  40            50                38             0   \n",
       "\n",
       "      PKR_Salary  \n",
       "0       73014000  \n",
       "1       63675000  \n",
       "2       44261200  \n",
       "3       53770000  \n",
       "4       42450000  \n",
       "...          ...  \n",
       "4129   116596000  \n",
       "4130    42733000  \n",
       "4131    29715000  \n",
       "4132    28300000  \n",
       "4133    26790195  \n",
       "\n",
       "[4134 rows x 9 columns]"
      ]
     },
     "execution_count": 22,
     "metadata": {},
     "output_type": "execute_result"
    }
   ],
   "source": [
    "sal"
   ]
  },
  {
   "cell_type": "code",
   "execution_count": 26,
   "id": "a030b902",
   "metadata": {},
   "outputs": [
    {
     "data": {
      "text/plain": [
       "work_year             int64\n",
       "experience_level      int32\n",
       "employment_type       int32\n",
       "job_title             int32\n",
       "employee_residence    int32\n",
       "remote_ratio          int64\n",
       "company_location      int32\n",
       "company_size          int32\n",
       "PKR_Salary            int64\n",
       "dtype: object"
      ]
     },
     "execution_count": 26,
     "metadata": {},
     "output_type": "execute_result"
    }
   ],
   "source": [
    "sal.dtypes"
   ]
  },
  {
   "cell_type": "code",
   "execution_count": 23,
   "id": "fa348eae",
   "metadata": {},
   "outputs": [],
   "source": [
    "from sklearn.model_selection import train_test_split\n",
    "from sklearn.metrics import r2_score"
   ]
  },
  {
   "cell_type": "code",
   "execution_count": 27,
   "id": "4809386b",
   "metadata": {},
   "outputs": [],
   "source": [
    "x=sal.drop('PKR_Salary',axis=1)\n",
    "y=sal.PKR_Salary"
   ]
  },
  {
   "cell_type": "code",
   "execution_count": 28,
   "id": "d1b29be4",
   "metadata": {},
   "outputs": [],
   "source": [
    "xtrain,xtest,ytrain,ytest=train_test_split(x,y,test_size=0.3,random_state=100)"
   ]
  },
  {
   "cell_type": "code",
   "execution_count": 29,
   "id": "02572e0a",
   "metadata": {
    "scrolled": true
   },
   "outputs": [
    {
     "data": {
      "text/plain": [
       "LinearRegression()"
      ]
     },
     "execution_count": 29,
     "metadata": {},
     "output_type": "execute_result"
    }
   ],
   "source": [
    "from sklearn.linear_model import LinearRegression\n",
    "lr=LinearRegression()\n",
    "lr.fit(xtrain,ytrain)"
   ]
  },
  {
   "cell_type": "code",
   "execution_count": 51,
   "id": "cb90a75b",
   "metadata": {},
   "outputs": [
    {
     "name": "stdout",
     "output_type": "stream",
     "text": [
      "r2_score of the model is:  -2.047178527333351\n"
     ]
    }
   ],
   "source": [
    "ypred=lr.predict(xtest)\n",
    "print(\"r2_score of the model is: \",r2_score(ypred,ytest))"
   ]
  },
  {
   "cell_type": "code",
   "execution_count": null,
   "id": "0eacfc5e",
   "metadata": {},
   "outputs": [],
   "source": []
  }
 ],
 "metadata": {
  "kernelspec": {
   "display_name": "Python 3 (ipykernel)",
   "language": "python",
   "name": "python3"
  },
  "language_info": {
   "codemirror_mode": {
    "name": "ipython",
    "version": 3
   },
   "file_extension": ".py",
   "mimetype": "text/x-python",
   "name": "python",
   "nbconvert_exporter": "python",
   "pygments_lexer": "ipython3",
   "version": "3.9.7"
  }
 },
 "nbformat": 4,
 "nbformat_minor": 5
}
