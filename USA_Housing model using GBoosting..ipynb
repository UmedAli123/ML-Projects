{
 "cells": [
  {
   "cell_type": "code",
   "execution_count": 2,
   "id": "fb1892cd",
   "metadata": {},
   "outputs": [],
   "source": [
    "import pandas as pd"
   ]
  },
  {
   "cell_type": "code",
   "execution_count": 3,
   "id": "a0682e9a",
   "metadata": {},
   "outputs": [
    {
     "data": {
      "text/html": [
       "<div>\n",
       "<style scoped>\n",
       "    .dataframe tbody tr th:only-of-type {\n",
       "        vertical-align: middle;\n",
       "    }\n",
       "\n",
       "    .dataframe tbody tr th {\n",
       "        vertical-align: top;\n",
       "    }\n",
       "\n",
       "    .dataframe thead th {\n",
       "        text-align: right;\n",
       "    }\n",
       "</style>\n",
       "<table border=\"1\" class=\"dataframe\">\n",
       "  <thead>\n",
       "    <tr style=\"text-align: right;\">\n",
       "      <th></th>\n",
       "      <th>Avg. Area Income</th>\n",
       "      <th>Avg. Area House Age</th>\n",
       "      <th>Avg. Area Number of Rooms</th>\n",
       "      <th>Avg. Area Number of Bedrooms</th>\n",
       "      <th>Area Population</th>\n",
       "      <th>Price</th>\n",
       "      <th>Address</th>\n",
       "    </tr>\n",
       "  </thead>\n",
       "  <tbody>\n",
       "    <tr>\n",
       "      <th>0</th>\n",
       "      <td>79545.458574</td>\n",
       "      <td>5.682861</td>\n",
       "      <td>7.009188</td>\n",
       "      <td>4.09</td>\n",
       "      <td>23086.800503</td>\n",
       "      <td>1.059034e+06</td>\n",
       "      <td>208 Michael Ferry Apt. 674\\nLaurabury, NE 3701...</td>\n",
       "    </tr>\n",
       "    <tr>\n",
       "      <th>1</th>\n",
       "      <td>79248.642455</td>\n",
       "      <td>6.002900</td>\n",
       "      <td>6.730821</td>\n",
       "      <td>3.09</td>\n",
       "      <td>40173.072174</td>\n",
       "      <td>1.505891e+06</td>\n",
       "      <td>188 Johnson Views Suite 079\\nLake Kathleen, CA...</td>\n",
       "    </tr>\n",
       "    <tr>\n",
       "      <th>2</th>\n",
       "      <td>61287.067179</td>\n",
       "      <td>5.865890</td>\n",
       "      <td>8.512727</td>\n",
       "      <td>5.13</td>\n",
       "      <td>36882.159400</td>\n",
       "      <td>1.058988e+06</td>\n",
       "      <td>9127 Elizabeth Stravenue\\nDanieltown, WI 06482...</td>\n",
       "    </tr>\n",
       "    <tr>\n",
       "      <th>3</th>\n",
       "      <td>63345.240046</td>\n",
       "      <td>7.188236</td>\n",
       "      <td>5.586729</td>\n",
       "      <td>3.26</td>\n",
       "      <td>34310.242831</td>\n",
       "      <td>1.260617e+06</td>\n",
       "      <td>USS Barnett\\nFPO AP 44820</td>\n",
       "    </tr>\n",
       "    <tr>\n",
       "      <th>4</th>\n",
       "      <td>59982.197226</td>\n",
       "      <td>5.040555</td>\n",
       "      <td>7.839388</td>\n",
       "      <td>4.23</td>\n",
       "      <td>26354.109472</td>\n",
       "      <td>6.309435e+05</td>\n",
       "      <td>USNS Raymond\\nFPO AE 09386</td>\n",
       "    </tr>\n",
       "  </tbody>\n",
       "</table>\n",
       "</div>"
      ],
      "text/plain": [
       "   Avg. Area Income  Avg. Area House Age  Avg. Area Number of Rooms  \\\n",
       "0      79545.458574             5.682861                   7.009188   \n",
       "1      79248.642455             6.002900                   6.730821   \n",
       "2      61287.067179             5.865890                   8.512727   \n",
       "3      63345.240046             7.188236                   5.586729   \n",
       "4      59982.197226             5.040555                   7.839388   \n",
       "\n",
       "   Avg. Area Number of Bedrooms  Area Population         Price  \\\n",
       "0                          4.09     23086.800503  1.059034e+06   \n",
       "1                          3.09     40173.072174  1.505891e+06   \n",
       "2                          5.13     36882.159400  1.058988e+06   \n",
       "3                          3.26     34310.242831  1.260617e+06   \n",
       "4                          4.23     26354.109472  6.309435e+05   \n",
       "\n",
       "                                             Address  \n",
       "0  208 Michael Ferry Apt. 674\\nLaurabury, NE 3701...  \n",
       "1  188 Johnson Views Suite 079\\nLake Kathleen, CA...  \n",
       "2  9127 Elizabeth Stravenue\\nDanieltown, WI 06482...  \n",
       "3                          USS Barnett\\nFPO AP 44820  \n",
       "4                         USNS Raymond\\nFPO AE 09386  "
      ]
     },
     "execution_count": 3,
     "metadata": {},
     "output_type": "execute_result"
    }
   ],
   "source": [
    "house=pd.read_csv('USA_Housing.csv')\n",
    "house.head()"
   ]
  },
  {
   "cell_type": "code",
   "execution_count": 4,
   "id": "57a8c80b",
   "metadata": {},
   "outputs": [
    {
     "name": "stdout",
     "output_type": "stream",
     "text": [
      "Size of x and its training and testing data is:  (5000, 5) (3500, 5) (1500, 5)\n",
      "Size of x and its training and testing data is:  (5000,) (3500,) (1500,)\n"
     ]
    }
   ],
   "source": [
    "x=house.drop(['Address','Price'],axis=1)\n",
    "y=house.Price\n",
    "from sklearn.model_selection import train_test_split\n",
    "x_train,x_test,y_train,y_test=train_test_split(x,y,train_size=0.7, test_size=0.3, random_state=42)#80% training , 20% test data\n",
    "print(\"Size of x and its training and testing data is: \",x.shape, x_train.shape, x_test.shape)\n",
    "print(\"Size of x and its training and testing data is: \",y.shape, y_train.shape, y_test.shape)"
   ]
  },
  {
   "cell_type": "code",
   "execution_count": 5,
   "id": "cff6685e",
   "metadata": {},
   "outputs": [
    {
     "data": {
      "text/plain": [
       "(5000, 7)"
      ]
     },
     "execution_count": 5,
     "metadata": {},
     "output_type": "execute_result"
    }
   ],
   "source": [
    "house.shape"
   ]
  },
  {
   "cell_type": "code",
   "execution_count": 6,
   "id": "1ebb8a53",
   "metadata": {},
   "outputs": [],
   "source": [
    "from sklearn.ensemble import GradientBoostingRegressor\n",
    "from sklearn.metrics import r2_score, mean_absolute_error,mean_squared_error\n",
    "gdbr=GradientBoostingRegressor(max_depth=3,n_estimators=100,learning_rate=0.1)\n",
    "gdbr.fit(x_train, y_train)\n",
    "y_pred=gdbr.predict(x_test)"
   ]
  },
  {
   "cell_type": "code",
   "execution_count": 7,
   "id": "9eae31d0",
   "metadata": {},
   "outputs": [
    {
     "name": "stdout",
     "output_type": "stream",
     "text": [
      "Accuaracy of model on testing is:  0.882454956310005\n"
     ]
    }
   ],
   "source": [
    "print('Accuaracy of model on testing is: ',r2_score(y_pred,y_test))"
   ]
  },
  {
   "cell_type": "code",
   "execution_count": 8,
   "id": "19e0a7da",
   "metadata": {},
   "outputs": [
    {
     "name": "stdout",
     "output_type": "stream",
     "text": [
      "Accuaracy of model on testing is:  0.9209972028447049\n"
     ]
    }
   ],
   "source": [
    "y_pred1=gdbr.predict(x_train)\n",
    "print('Accuaracy of model on testing is: ',r2_score(y_pred1,y_train))"
   ]
  },
  {
   "cell_type": "code",
   "execution_count": 9,
   "id": "0ef12251",
   "metadata": {},
   "outputs": [
    {
     "data": {
      "image/png": "[encoded data removed]",
      "text/plain": [
       "<Figure size 432x288 with 1 Axes>"
      ]
     },
     "metadata": {
      "needs_background": "light"
     },
     "output_type": "display_data"
    }
   ],
   "source": [
    "import numpy as np\n",
    "import matplotlib.pyplot as plt\n",
    "# plt.figure(figsize=(10,5))\n",
    "feature_importance=gdbr.feature_importances_\n",
    "feature_importance=100.0*(feature_importance/feature_importance.max())\n",
    "sort_idx=np.argsort(feature_importance)\n",
    "pos = np.arange(sort_idx.shape[0]) + .5\n",
    "plt.barh(pos, feature_importance[sort_idx], align='center',height=0.5)\n",
    "plt.yticks(pos, house.columns[sort_idx])\n",
    "plt.xlabel('Relative Importance')\n",
    "plt.ylabel('Variable Importance')\n",
    "plt.show()"
   ]
  },
  {
   "cell_type": "code",
   "execution_count": 10,
   "id": "ede9ee2b",
   "metadata": {},
   "outputs": [
    {
     "name": "stdout",
     "output_type": "stream",
     "text": [
      "Accuracy of model on testing data is:  [1288360.82927683 1276168.8772158  1224333.59713487 ... 1466565.66689991\n",
      " 1461527.72987968 1010439.24888838] 1501    1.339096e+06\n",
      "2586    1.251794e+06\n",
      "2653    1.340095e+06\n",
      "1055    1.431508e+06\n",
      "705     1.042374e+06\n",
      "            ...     \n",
      "3563    1.348222e+06\n",
      "1538    1.309937e+06\n",
      "1837    1.472887e+06\n",
      "2380    1.409762e+06\n",
      "1912    1.009606e+06\n",
      "Name: Price, Length: 1500, dtype: float64\n"
     ]
    }
   ],
   "source": [
    "from sklearn.model_selection import RandomizedSearchCV\n",
    "parameter={'max_depth':[1,2,3,4,6,7,8],'n_estimators':[100,200,300,400,500,600,700],'learning_rate':[0.1,0.2,0.5,0.05,0.005]}\n",
    "new_model=RandomizedSearchCV(estimator=gdbr,param_distributions=parameter,scoring='r2')\n",
    "new_model.fit(x_train,y_train)\n",
    "pred_y=new_model.predict(x_test)\n",
    "print('Accuracy of model on testing data is: ',accuracy_score(pred_y,y_test))"
   ]
  },
  {
   "cell_type": "code",
   "execution_count": 11,
   "id": "56c2a9d2",
   "metadata": {},
   "outputs": [
    {
     "name": "stdout",
     "output_type": "stream",
     "text": [
      "{'n_estimators': 300, 'max_depth': 1, 'learning_rate': 0.2}\n",
      "Best Score is:  0.9105109558637325\n"
     ]
    }
   ],
   "source": [
    "print(new_model.best_params_)\n",
    "print('Best Score is: ',new_model.best_score_)"
   ]
  },
  {
   "cell_type": "code",
   "execution_count": 12,
   "id": "f1e3e29c",
   "metadata": {},
   "outputs": [
    {
     "name": "stdout",
     "output_type": "stream",
     "text": [
      "Accuaracy of model on testing is:  0.9209972028447049\n"
     ]
    }
   ],
   "source": [
    "y_pred1=gdbr.predict(x_train)\n",
    "print('Accuaracy of model on testing is: ',r2_score(y_pred1,y_train))"
   ]
  },
  {
   "cell_type": "code",
   "execution_count": null,
   "id": "e47dca53",
   "metadata": {},
   "outputs": [],
   "source": []
  }
 ],
 "metadata": {
  "kernelspec": {
   "display_name": "Python 3 (ipykernel)",
   "language": "python",
   "name": "python3"
  },
  "language_info": {
   "codemirror_mode": {
    "name": "ipython",
    "version": 3
   },
   "file_extension": ".py",
   "mimetype": "text/x-python",
   "name": "python",
   "nbconvert_exporter": "python",
   "pygments_lexer": "ipython3",
   "version": "3.9.7"
  }
 },
 "nbformat": 4,
 "nbformat_minor": 5
}
